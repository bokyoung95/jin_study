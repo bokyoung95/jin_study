{
 "cells": [
  {
   "cell_type": "markdown",
   "metadata": {},
   "source": [
    "# Operation\n",
    "---\n",
    "\n",
    "\n",
    "## 산술연산\n",
    "---"
   ]
  },
  {
   "cell_type": "code",
   "execution_count": null,
   "metadata": {},
   "outputs": [],
   "source": [
    "# 문자열\n",
    "('Big' + 'data') * 3"
   ]
  },
  {
   "cell_type": "code",
   "execution_count": null,
   "metadata": {},
   "outputs": [],
   "source": [
    "# list\n",
    "a = [1]\n",
    "b = [2]\n",
    "c = 3\n",
    "\n",
    "a + b"
   ]
  },
  {
   "cell_type": "code",
   "execution_count": null,
   "metadata": {
    "scrolled": true
   },
   "outputs": [],
   "source": [
    "# [Error] c가 list가 아니기 때문에 list인 a와 b에 덧붙일 수 없다.\n",
    "a + b + c"
   ]
  },
  {
   "cell_type": "code",
   "execution_count": null,
   "metadata": {
    "scrolled": true
   },
   "outputs": [],
   "source": [
    "a + (b * c)"
   ]
  },
  {
   "cell_type": "markdown",
   "metadata": {},
   "source": [
    "Python 2.x와 3.x에서 산술연산자 몇 가지가 달라졌다."
   ]
  },
  {
   "cell_type": "code",
   "execution_count": null,
   "metadata": {},
   "outputs": [],
   "source": [
    "# inf : 무한(infinite)\n",
    "x = float('inf')\n",
    "\n",
    "x == x + 1"
   ]
  },
  {
   "cell_type": "code",
   "execution_count": null,
   "metadata": {},
   "outputs": [],
   "source": [
    "# -inf도 있다.\n",
    "x = float('inf')\n",
    "y = float('-inf')\n",
    "\n",
    "x == y"
   ]
  },
  {
   "cell_type": "code",
   "execution_count": null,
   "metadata": {},
   "outputs": [],
   "source": [
    "a = float('inf')\n",
    "b = float('inf')\n",
    "\n",
    "# 값은 inf이지만,\n",
    "a + b"
   ]
  },
  {
   "cell_type": "code",
   "execution_count": null,
   "metadata": {},
   "outputs": [],
   "source": [
    "# type은 float\n",
    "type(a + b)"
   ]
  },
  {
   "cell_type": "code",
   "execution_count": null,
   "metadata": {},
   "outputs": [],
   "source": [
    "# 값은 nan이지만,\n",
    "a - b"
   ]
  },
  {
   "cell_type": "code",
   "execution_count": null,
   "metadata": {},
   "outputs": [],
   "source": [
    "# type은 float\n",
    "type(a - b)"
   ]
  },
  {
   "cell_type": "code",
   "execution_count": null,
   "metadata": {},
   "outputs": [],
   "source": [
    "5 / 3"
   ]
  },
  {
   "cell_type": "code",
   "execution_count": null,
   "metadata": {},
   "outputs": [],
   "source": [
    "5 // 3"
   ]
  },
  {
   "cell_type": "code",
   "execution_count": null,
   "metadata": {},
   "outputs": [],
   "source": [
    "5 % 3"
   ]
  },
  {
   "cell_type": "code",
   "execution_count": null,
   "metadata": {},
   "outputs": [],
   "source": [
    "5 / -3"
   ]
  },
  {
   "cell_type": "code",
   "execution_count": null,
   "metadata": {},
   "outputs": [],
   "source": [
    "5 // -3"
   ]
  },
  {
   "cell_type": "code",
   "execution_count": null,
   "metadata": {},
   "outputs": [],
   "source": [
    "5 % -3"
   ]
  },
  {
   "cell_type": "markdown",
   "metadata": {},
   "source": [
    "mutable 연산에서 `a += b`와 `a = a + b`의 차이. 전자는 identity가 변하지 않고, 후자는 변한다."
   ]
  },
  {
   "cell_type": "code",
   "execution_count": null,
   "metadata": {},
   "outputs": [],
   "source": [
    "a = [0]\n",
    "print('a: ', a)\n",
    "id1 = id(a)\n",
    "\n",
    "a += [1]\n",
    "print('a: ', a)\n",
    "id2 = id(a)\n",
    "\n",
    "print('id 안 변함: {0} → {1}'.format(id1, id2))"
   ]
  },
  {
   "cell_type": "code",
   "execution_count": null,
   "metadata": {},
   "outputs": [],
   "source": [
    "a = [0]\n",
    "print('a: ', a)\n",
    "id1 = id(a)\n",
    "\n",
    "a = a + [1]\n",
    "print('a: ', a)\n",
    "id2 = id(a)\n",
    "\n",
    "print('id 변함: {0} → {1}'.format(id1, id2))"
   ]
  },
  {
   "cell_type": "markdown",
   "metadata": {},
   "source": [
    "## Boolean Operations (논리연산)\n",
    "---\n",
    "\n",
    "* True or False\n",
    "   * By default, an object is considered **true** unless its class defines either a **\\_\\_bool\\_\\_()** method that returns False or a **\\_\\_len\\_\\_()** method that returns zero, when called with the object. Here are most of the built-in objects considered false:\n",
    "      * constants defined to be false: `None` and `False`.\n",
    "      * zero of any numeric type: `0`, `0.0`, `0j`, `Decimal(0)`, `Fraction(0, 1)`\n",
    "      * empty sequences and collections: `''`, `()`, `[]`, `{}`, `set()`, `range(0)`   "
   ]
  },
  {
   "cell_type": "code",
   "execution_count": null,
   "metadata": {},
   "outputs": [],
   "source": [
    "# It means that not (any function that returns None) == True\n",
    "not None == True"
   ]
  },
  {
   "cell_type": "markdown",
   "metadata": {},
   "source": [
    "* Operations and built-in functions that have a Boolean result always return `0` or `False` for false and `1` or `True` for true, unless otherwise stated.\n",
    "* Important exception: the Boolean operations `or` and `and` always return one of their operands.\n",
    "\n",
    "\n",
    "These are the Boolean operations, ordered by ascending priority:\n",
    "\n",
    "| Operation | Result                               | Note |\n",
    "| --------- | ------------------------------------ | ---- |\n",
    "| x or y    | if x is false, then y, else x        | (1)  |\n",
    "| x and y   | if x is false, then x, else y        | (2)  |\n",
    "| not x     | if x is false, then True, else False | (3)  |\n",
    "\n",
    "Notes:\n",
    "1. This is **a short-circuit operator**, so it only evaluates the second argument if the first one is false.\n",
    "2. This is **a short-circuit operator**, so it only evaluates the second argument if the first one is true.\n",
    "3. not has a lower priority than non-Boolean operators, so not a == b is interpreted as not (a == b), and a == not b is a syntax error.\n",
    "\n",
    "\n",
    "* Short-circuit(C나 Java에도 통용되는 기법인데 Python만 살짝 다르다.)에 따라 연산할 필요가 없을 경우 다음(Python의 기본 연산방향은 왼쪽에서 오른쪽) 피연산자는 검사하지 않는다.\n",
    "* 논리연산은 '값'을 반환한다. 즉, short-circuit에 따라 마지막으로 검사된 피연산자가 bool로 변환되지 않고 그대로 반환된다."
   ]
  },
  {
   "cell_type": "code",
   "execution_count": null,
   "metadata": {},
   "outputs": [],
   "source": [
    "1 or 'Hello world!'"
   ]
  },
  {
   "cell_type": "code",
   "execution_count": null,
   "metadata": {},
   "outputs": [],
   "source": [
    "0 or 'Hello world!'"
   ]
  },
  {
   "cell_type": "code",
   "execution_count": null,
   "metadata": {},
   "outputs": [],
   "source": [
    "1 and 'Hello world!'"
   ]
  },
  {
   "cell_type": "code",
   "execution_count": null,
   "metadata": {},
   "outputs": [],
   "source": [
    "0 and 'Hello world!'"
   ]
  },
  {
   "cell_type": "markdown",
   "metadata": {},
   "source": [
    "나누기 할 때 0으로 나누면 발생하는 에러 체크 기법으로 많이 사용된다."
   ]
  },
  {
   "cell_type": "code",
   "execution_count": null,
   "metadata": {},
   "outputs": [],
   "source": [
    "a = 0\n",
    "\n",
    "a == 0 or 5 / a"
   ]
  },
  {
   "cell_type": "markdown",
   "metadata": {},
   "source": [
    "## 비교연산\n",
    "---\n",
    "\n",
    "* Relational operations\n",
    "   * `<`, `<=`, `>`, `>=`, `==`, `!=`\n",
    "\n",
    "\n",
    "* Identity\n",
    "   * `is` : object identity(값과 메모리가 모두 동일)\n",
    "   * `is not` : negated object identity"
   ]
  },
  {
   "cell_type": "code",
   "execution_count": null,
   "metadata": {},
   "outputs": [],
   "source": [
    "a = list()\n",
    "b = []\n",
    "\n",
    "# 둘 다 빈 list이므로 값은 같지만\n",
    "a == b"
   ]
  },
  {
   "cell_type": "code",
   "execution_count": null,
   "metadata": {},
   "outputs": [],
   "source": [
    "# identity는 다르다.\n",
    "a is b"
   ]
  },
  {
   "cell_type": "code",
   "execution_count": null,
   "metadata": {
    "scrolled": true
   },
   "outputs": [],
   "source": [
    "# Return the identity of an object.\n",
    "id(a)"
   ]
  },
  {
   "cell_type": "code",
   "execution_count": null,
   "metadata": {},
   "outputs": [],
   "source": [
    "id(b)"
   ]
  },
  {
   "cell_type": "code",
   "execution_count": null,
   "metadata": {},
   "outputs": [],
   "source": [
    "# a is b와 동일한 연산\n",
    "id(a) == id(b)"
   ]
  },
  {
   "cell_type": "markdown",
   "metadata": {},
   "source": [
    "* Numeric 비교연산\n",
    "   * 기본적인 숫자 비교연산\n",
    "   \n",
    "   \n",
    "연산자를 연쇄적으로 사용할 수 있다."
   ]
  },
  {
   "cell_type": "code",
   "execution_count": null,
   "metadata": {},
   "outputs": [],
   "source": [
    "num = 3\n",
    "\n",
    "1 < num < 5"
   ]
  },
  {
   "cell_type": "code",
   "execution_count": null,
   "metadata": {},
   "outputs": [],
   "source": [
    "# 위와 동일\n",
    "1 < num and num < 5"
   ]
  },
  {
   "cell_type": "markdown",
   "metadata": {},
   "source": [
    "* Sequence 비교연산\n",
    "   * sequence는 같은 sequence type끼리만 비교가 가능하며 lexicographical(사전식) ordering을 사용하여 각 요소를 순차적으로 비교한다. 비교하는 대상 중 하나가 다른 하나의 sub-sequence일 경우 짧은 sequence가 더 작은 것이며, 요소 자체가 sequence라면 재귀적으로 사전식 비교를 수행한다.\n",
    "   * Sequence objects may be compared to other objects with the same sequence type. The comparison uses **lexicographical ordering:** first the first two items are compared, and if they differ this determines the outcome of the comparison; if they are equal, the next two items are compared, and so on, until either sequence is exhausted. If two items to be compared are themselves sequences of the same type, the lexicographical comparison is carried out recursively. If all items of two sequences compare equal, the sequences are considered equal. If one sequence is an initial sub-sequence of the other, the shorter sequence is the smaller (lesser) one. Lexicographical ordering for strings uses the Unicode code point number to order individual characters."
   ]
  },
  {
   "cell_type": "code",
   "execution_count": null,
   "metadata": {},
   "outputs": [],
   "source": [
    "# [Error] 같은 type의 sequence가 아니기 때문에 비교할 수 없다.\n",
    "(1, 2, 3) < [1, 2, 3]"
   ]
  },
  {
   "cell_type": "code",
   "execution_count": null,
   "metadata": {},
   "outputs": [],
   "source": [
    "# 완벽히 일치하는 경우\n",
    "(1, 2, 3) == (1, 2, 3)"
   ]
  },
  {
   "cell_type": "code",
   "execution_count": null,
   "metadata": {},
   "outputs": [],
   "source": [
    "# 세 번째 요소끼리의 비교에서 오른쪽이 더 크다. \n",
    "(1, 2, 3) < (1, 2, 4)"
   ]
  },
  {
   "cell_type": "code",
   "execution_count": null,
   "metadata": {},
   "outputs": [],
   "source": [
    "# 순차적으로 비교하기 때문에 세 번째 요소끼리의 비교 결과가 같지 않으므로\n",
    "# 뒤에 어떤 요소가 오든 상관 없이 즉시 비교연산이 종료된다.\n",
    "(1, 2, 3, 9, 99, 999) < (1, 2, 4, 5, 55, 555)"
   ]
  },
  {
   "cell_type": "code",
   "execution_count": null,
   "metadata": {},
   "outputs": [],
   "source": [
    "# 비교하는 대상 중 하나가 다른 하나의 sub-sequence인 경우\n",
    "# 길이가 긴 쪽이 더 크다.\n",
    "(1, 2) < (1, 2, 3)"
   ]
  },
  {
   "cell_type": "code",
   "execution_count": null,
   "metadata": {},
   "outputs": [],
   "source": [
    "# 길이는 왼쪽이 더 길지만 세 번째 요소끼리의 비교에서 오른쪽이 더 크다.\n",
    "(1, 2, 3, 4) < (1, 2, 4)"
   ]
  },
  {
   "cell_type": "code",
   "execution_count": null,
   "metadata": {},
   "outputs": [],
   "source": [
    "(1, 2) < (1, 2, -1)"
   ]
  },
  {
   "cell_type": "code",
   "execution_count": null,
   "metadata": {},
   "outputs": [],
   "source": [
    "(1, 3) < (1, 2, -1)"
   ]
  },
  {
   "cell_type": "code",
   "execution_count": null,
   "metadata": {},
   "outputs": [],
   "source": [
    "# 요소 자체가 sequence인 경우\n",
    "# 세 번째 요소 (10, 20)과 (30, 40)의 sequence 비교연산이 재귀적으로 수행된다.\n",
    "(1, 2, (10, 20), 3, 4, 5) < (1, 2, (10, 30), 3)"
   ]
  },
  {
   "cell_type": "markdown",
   "metadata": {},
   "source": [
    "다른 sequence type인 list와 str도 동일한 방식으로 비교연산을 수행하며, 특히 str의 경우 Unicode code point number를 사용하여 문자 간의 대소를 비교한다."
   ]
  },
  {
   "cell_type": "code",
   "execution_count": null,
   "metadata": {},
   "outputs": [],
   "source": [
    "[1, 2, 3] < [1, 2, 4]"
   ]
  },
  {
   "cell_type": "code",
   "execution_count": null,
   "metadata": {},
   "outputs": [],
   "source": [
    "'ABC' < 'C' < 'Pascal' < 'Python'"
   ]
  },
  {
   "cell_type": "code",
   "execution_count": null,
   "metadata": {},
   "outputs": [],
   "source": [
    "# Return the Unicode code point for a one-character string.\n",
    "ord('A')"
   ]
  },
  {
   "cell_type": "code",
   "execution_count": null,
   "metadata": {},
   "outputs": [],
   "source": [
    "ord('P')"
   ]
  },
  {
   "cell_type": "code",
   "execution_count": null,
   "metadata": {},
   "outputs": [],
   "source": [
    "# Return a Unicode string of one character with ordinal i; 0 <= i <= 0x10ffff.\n",
    "chr(65)"
   ]
  },
  {
   "cell_type": "markdown",
   "metadata": {},
   "source": [
    "위에서 사용한 `ord`와 `chr`은 앞에 `__builtin__.`이 생략된 [built-in functions](https://docs.python.org/3/library/functions.html) 중 하나이다.\n"
   ]
  },
  {
   "cell_type": "code",
   "execution_count": null,
   "metadata": {},
   "outputs": [],
   "source": [
    "__builtin__.ord('C')"
   ]
  },
  {
   "cell_type": "code",
   "execution_count": null,
   "metadata": {},
   "outputs": [],
   "source": [
    "dir(__builtin__)"
   ]
  },
  {
   "cell_type": "markdown",
   "metadata": {},
   "source": [
    "## 멤버십연산\n",
    "---\n",
    "\n",
    "* `in` : membership(특정한 집합에 어떤 멤버(원소)가 속해있는 지)\n",
    "* `not in` : non-membership"
   ]
  },
  {
   "cell_type": "code",
   "execution_count": null,
   "metadata": {},
   "outputs": [],
   "source": [
    "'예' in '예쁘다'"
   ]
  },
  {
   "cell_type": "code",
   "execution_count": null,
   "metadata": {},
   "outputs": [],
   "source": [
    "'에' in '예쁘다'"
   ]
  },
  {
   "cell_type": "markdown",
   "metadata": {},
   "source": [
    "Key membership for mapping types"
   ]
  },
  {
   "cell_type": "code",
   "execution_count": null,
   "metadata": {},
   "outputs": [],
   "source": [
    "1 in {1: 'v1', 2: 'v2', 3: 'v3'}"
   ]
  },
  {
   "cell_type": "code",
   "execution_count": null,
   "metadata": {},
   "outputs": [],
   "source": [
    "'v1' in {1: 'v1', 2: 'v2', 3: 'v3'}"
   ]
  }
 ],
 "metadata": {
  "kernelspec": {
   "display_name": "Python 3",
   "language": "python",
   "name": "python3"
  },
  "language_info": {
   "codemirror_mode": {
    "name": "ipython",
    "version": 3
   },
   "file_extension": ".py",
   "mimetype": "text/x-python",
   "name": "python",
   "nbconvert_exporter": "python",
   "pygments_lexer": "ipython3",
   "version": "3.6.6"
  }
 },
 "nbformat": 4,
 "nbformat_minor": 2
}
