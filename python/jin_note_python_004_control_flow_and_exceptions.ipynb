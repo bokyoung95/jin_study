{
 "cells": [
  {
   "cell_type": "markdown",
   "metadata": {},
   "source": [
    "# Control Flow\n",
    "---\n",
    "\n",
    "\n",
    "## 조건문\n",
    "---\n",
    "\n",
    "`if`, `elif`, `else`\n",
    "\n",
    "\n",
    "```python\n",
    "if condition1:\n",
    "    pass\n",
    "# else if를 합친 elif로 조건문 체인을 만든다.\n",
    "elif condition2:\n",
    "    pass\n",
    "# else는 조건문 체인의 어떤 조건에도 해당되지 않는 경우에 실행된다.\n",
    "else:\n",
    "    pass\n",
    "```\n",
    "\n",
    "\n",
    "* pass statement는 틀만 먼저 잡아놓고 나중에 구현하고 싶거나 실행 코드 없이 문법적으로 statement 자체만 필요할 때 일종의 placeholder로서 유용하다. Null operation이므로 아무 일도 일어나지 않는다.\n",
    "\n",
    "\n",
    "* Ternary operator (3항 연산자)\n",
    "   * Python에는 **conditional expression**라 불리는 3항 연산자가 있다.\n",
    "   * Comprehension 구조와 lambda 함수에 사용하면 유용하다.\n",
    "   * 함수에서 arguments를 받을 때 활용할 수 있는 기법이기도 하다.\n",
    "   * if statement와 비슷한 기능을 하지만 expression이다."
   ]
  },
  {
   "cell_type": "code",
   "execution_count": 50,
   "metadata": {},
   "outputs": [
    {
     "data": {
      "text/plain": [
       "'Hello'"
      ]
     },
     "execution_count": 50,
     "metadata": {},
     "output_type": "execute_result"
    }
   ],
   "source": [
    "a = 10\n",
    "b = 'Hello' if a > 5 else 'Hi'\n",
    "\n",
    "b"
   ]
  },
  {
   "cell_type": "code",
   "execution_count": 51,
   "metadata": {},
   "outputs": [
    {
     "data": {
      "text/plain": [
       "'Hi'"
      ]
     },
     "execution_count": 51,
     "metadata": {},
     "output_type": "execute_result"
    }
   ],
   "source": [
    "a = 1\n",
    "b = 'Hello' if a > 5 else 'Hi'\n",
    "\n",
    "b"
   ]
  },
  {
   "cell_type": "markdown",
   "metadata": {},
   "source": [
    "`input`은 사용자로부터 입력을 받아 str을 반환한다."
   ]
  },
  {
   "cell_type": "code",
   "execution_count": 53,
   "metadata": {},
   "outputs": [
    {
     "name": "stdout",
     "output_type": "stream",
     "text": [
      "What is your name? jin\n"
     ]
    },
    {
     "data": {
      "text/plain": [
       "'Jin'"
      ]
     },
     "execution_count": 53,
     "metadata": {},
     "output_type": "execute_result"
    }
   ],
   "source": [
    "# Read a string from standard input.\n",
    "user = input('What is your name? ')\n",
    "\n",
    "user.title() if user else 'Guest'"
   ]
  },
  {
   "cell_type": "code",
   "execution_count": 52,
   "metadata": {},
   "outputs": [
    {
     "name": "stdout",
     "output_type": "stream",
     "text": [
      "What is your name? \n"
     ]
    },
    {
     "data": {
      "text/plain": [
       "'Guest'"
      ]
     },
     "execution_count": 52,
     "metadata": {},
     "output_type": "execute_result"
    }
   ],
   "source": [
    "user = input('What is your name? ')\n",
    "\n",
    "user.title() if user else 'Guest'"
   ]
  },
  {
   "cell_type": "markdown",
   "metadata": {},
   "source": [
    "## 반복문\n",
    "---\n",
    "\n",
    "\n",
    "### Condition-based Loop\n",
    "---\n",
    "\n",
    "`while`\n",
    "\n",
    "\n",
    "```python\n",
    "# 무한 루프를 만들기 위해 flag를 True로 설정했다. 특정 조건을 사용해도 된다. \n",
    "flag = True\n",
    "while flag:\n",
    "    # 무한 루프는 반드시 탈출할 수 있는 구조를 갖추어줘야 한다.\n",
    "    if condition1:\n",
    "        # e.g. 변수를 사용하여 탈출 \n",
    "        flag != flag\n",
    "    elif condition2:\n",
    "        # break statement : 즉시 반복문을 종료하며 else clause를 실행하지 않는다.\n",
    "        break\n",
    "    elif condition3:\n",
    "        # continue statement : 즉시 조건을 재검사하여 다음 반복을 실행한다.\n",
    "        continue\n",
    "    pass\n",
    "# 반복문에도 else를 사용할 수 있으며, 정상적으로 반복문이 종료되면 최종적으로 else clause가 실행된다.\n",
    "else:\n",
    "    pass\n",
    "```"
   ]
  },
  {
   "cell_type": "markdown",
   "metadata": {},
   "source": [
    "반복문이 정상적으로 종료되면 else clause가 실행된다."
   ]
  },
  {
   "cell_type": "code",
   "execution_count": 46,
   "metadata": {},
   "outputs": [
    {
     "name": "stdout",
     "output_type": "stream",
     "text": [
      "0\n",
      "1\n",
      "2\n",
      "3\n",
      "4\n",
      "else clause\n"
     ]
    }
   ],
   "source": [
    "i = 0\n",
    "\n",
    "while i < 5:\n",
    "    print(i)\n",
    "    i += 1\n",
    "else:\n",
    "    print('else clause')"
   ]
  },
  {
   "cell_type": "markdown",
   "metadata": {},
   "source": [
    "반복문이 break에 의해 종료되면 else clause가 실행되지 않는다."
   ]
  },
  {
   "cell_type": "code",
   "execution_count": 44,
   "metadata": {},
   "outputs": [
    {
     "name": "stdout",
     "output_type": "stream",
     "text": [
      "0\n",
      "1\n",
      "2\n",
      "3\n"
     ]
    }
   ],
   "source": [
    "i = 0\n",
    "\n",
    "while i < 5:\n",
    "    print(i)\n",
    "    \n",
    "    if i == 3:\n",
    "        break\n",
    "\n",
    "    i += 1\n",
    "else:\n",
    "    print('else clause')"
   ]
  },
  {
   "cell_type": "markdown",
   "metadata": {},
   "source": [
    "탈출 구조 안 만들었는데 잘못해서 무한 루프가 있는 셀을 실행시켰다면? Kernel을 재시작해도 되지만 그러면 workspace가 초기화되어 맨 위에서부터 모든 셀을 다시 실행해야 한다. 그래봤자 Shift + Enter 몇 번 누르는 거지만, 귀찮다면 interrupt the kernel(단축키 : 명령 모드에서 `i`, `i`(i 연속 두 번)) 하면 된다."
   ]
  },
  {
   "cell_type": "code",
   "execution_count": 49,
   "metadata": {},
   "outputs": [
    {
     "ename": "KeyboardInterrupt",
     "evalue": "",
     "output_type": "error",
     "traceback": [
      "\u001b[1;31m---------------------------------------------------------------------------\u001b[0m",
      "\u001b[1;31mKeyboardInterrupt\u001b[0m                         Traceback (most recent call last)",
      "\u001b[1;32m<ipython-input-49-cccdd40a5a4c>\u001b[0m in \u001b[0;36m<module>\u001b[1;34m()\u001b[0m\n\u001b[0;32m      1\u001b[0m \u001b[1;32mwhile\u001b[0m \u001b[1;32mTrue\u001b[0m\u001b[1;33m:\u001b[0m\u001b[1;33m\u001b[0m\u001b[0m\n\u001b[1;32m----> 2\u001b[1;33m     \u001b[1;32mpass\u001b[0m\u001b[1;33m\u001b[0m\u001b[0m\n\u001b[0m",
      "\u001b[1;31mKeyboardInterrupt\u001b[0m: "
     ]
    }
   ],
   "source": [
    "while True:\n",
    "    pass"
   ]
  },
  {
   "cell_type": "markdown",
   "metadata": {},
   "source": [
    "### Value-based Loop\n",
    "---\n",
    "\n",
    "`for`, `in`\n",
    "\n",
    "\n",
    "```python\n",
    "for variable in sequence:\n",
    "    pass\n",
    "else:\n",
    "    pass\n",
    "```\n",
    "\n",
    "\n",
    "* `in` 다음에는 sequence 또는 iterable object를 사용한다.\n",
    "\n",
    "\n",
    "* else clause가 실행되는 조건은 while과 동일하다."
   ]
  },
  {
   "cell_type": "code",
   "execution_count": 8,
   "metadata": {},
   "outputs": [
    {
     "name": "stdout",
     "output_type": "stream",
     "text": [
      "A\n",
      "B\n",
      "C\n",
      "D\n",
      "E\n"
     ]
    }
   ],
   "source": [
    "l = ['A', 'B', 'C', 'D', 'E']\n",
    "\n",
    "for i in l:\n",
    "    print(i)"
   ]
  },
  {
   "cell_type": "markdown",
   "metadata": {},
   "source": [
    "따라서 iterable object는 다음과 같이 복잡하게 반복문을 만들 필요가 전혀 없다."
   ]
  },
  {
   "cell_type": "code",
   "execution_count": 9,
   "metadata": {},
   "outputs": [
    {
     "name": "stdout",
     "output_type": "stream",
     "text": [
      "A\n",
      "B\n",
      "C\n",
      "D\n",
      "E\n"
     ]
    }
   ],
   "source": [
    "for idx in range(len(l)):\n",
    "    print(l[idx])"
   ]
  },
  {
   "cell_type": "markdown",
   "metadata": {},
   "source": [
    "굳이 index가 필요하다면 `enumerate`를 사용하여 iterable object의 index와 value를 동시에 가져올 수 있다."
   ]
  },
  {
   "cell_type": "code",
   "execution_count": 11,
   "metadata": {},
   "outputs": [
    {
     "data": {
      "text/plain": [
       "[(0, 'A'), (1, 'B'), (2, 'C'), (3, 'D'), (4, 'E')]"
      ]
     },
     "execution_count": 11,
     "metadata": {},
     "output_type": "execute_result"
    }
   ],
   "source": [
    "list(enumerate(l))"
   ]
  },
  {
   "cell_type": "code",
   "execution_count": 16,
   "metadata": {},
   "outputs": [
    {
     "name": "stdout",
     "output_type": "stream",
     "text": [
      "0 A\n",
      "1 B\n",
      "2 C\n",
      "3 D\n",
      "4 E\n"
     ]
    }
   ],
   "source": [
    "for idx, value in enumerate(l):\n",
    "    print(idx, value)"
   ]
  },
  {
   "cell_type": "markdown",
   "metadata": {},
   "source": [
    "Unpacking할 때 특정 순서의 요소가 필요 없다면 `_`로 처리한다. 아래 예시에서는 value는 제외하고 index만 가져왔다."
   ]
  },
  {
   "cell_type": "code",
   "execution_count": 67,
   "metadata": {},
   "outputs": [
    {
     "name": "stdout",
     "output_type": "stream",
     "text": [
      "0\n",
      "1\n",
      "2\n",
      "3\n",
      "4\n"
     ]
    }
   ],
   "source": [
    "for idx, _ in enumerate(l):\n",
    "    print(idx)"
   ]
  },
  {
   "cell_type": "markdown",
   "metadata": {},
   "source": [
    "* `range`도 sequence이자 iterable이다.\n",
    "   * The range type represents an immutable sequence of numbers and is commonly used for looping a specific number of times in for loops."
   ]
  },
  {
   "cell_type": "code",
   "execution_count": 17,
   "metadata": {},
   "outputs": [
    {
     "data": {
      "text/plain": [
       "type"
      ]
     },
     "execution_count": 17,
     "metadata": {},
     "output_type": "execute_result"
    }
   ],
   "source": [
    "# type으로 확인했는데 결과가 type으로 나오면 class다.\n",
    "type(range)"
   ]
  },
  {
   "cell_type": "code",
   "execution_count": 58,
   "metadata": {},
   "outputs": [
    {
     "data": {
      "text/plain": [
       "list"
      ]
     },
     "execution_count": 58,
     "metadata": {},
     "output_type": "execute_result"
    }
   ],
   "source": [
    "l = list(range(5))\n",
    "\n",
    "type(l)"
   ]
  },
  {
   "cell_type": "code",
   "execution_count": 59,
   "metadata": {},
   "outputs": [
    {
     "data": {
      "text/plain": [
       "[0, 1, 2, 3, 4]"
      ]
     },
     "execution_count": 59,
     "metadata": {},
     "output_type": "execute_result"
    }
   ],
   "source": [
    "l"
   ]
  },
  {
   "cell_type": "code",
   "execution_count": 56,
   "metadata": {},
   "outputs": [
    {
     "name": "stdout",
     "output_type": "stream",
     "text": [
      "0\n",
      "1\n",
      "2\n",
      "3\n",
      "4\n"
     ]
    }
   ],
   "source": [
    "# in 다음에 바로 사용 가능\n",
    "for i in range(5):\n",
    "    print(i)"
   ]
  },
  {
   "cell_type": "markdown",
   "metadata": {},
   "source": [
    "Mutable sequence로 for loop를 돌리면서 해당 object를 수정하면 아래 예시처럼 문제가 발생할 수 있다."
   ]
  },
  {
   "cell_type": "code",
   "execution_count": 75,
   "metadata": {},
   "outputs": [
    {
     "name": "stdout",
     "output_type": "stream",
     "text": [
      "A\n",
      "B\n",
      "Cool\n",
      "E\n"
     ]
    },
    {
     "data": {
      "text/plain": [
       "['A', 'B', 'D', 'E']"
      ]
     },
     "execution_count": 75,
     "metadata": {},
     "output_type": "execute_result"
    }
   ],
   "source": [
    "l = ['A', 'B', 'Cool', 'D', 'E']\n",
    "\n",
    "# 원래 총 5번 돌아야 하는데 반복 도중 원본 object가 수정('Cool' 삭제)되면서 'D'를 건너뛰고 4번만 반복되었다.\n",
    "for i in l:\n",
    "    print(i)\n",
    "    \n",
    "    if len(i) > 1:\n",
    "        l.remove(i)\n",
    "        \n",
    "l"
   ]
  },
  {
   "cell_type": "markdown",
   "metadata": {},
   "source": [
    "Slicing을 사용하여 복제한 object로 loop를 돌리면 해결할 수 있다."
   ]
  },
  {
   "cell_type": "code",
   "execution_count": 74,
   "metadata": {},
   "outputs": [
    {
     "name": "stdout",
     "output_type": "stream",
     "text": [
      "A\n",
      "B\n",
      "Cool\n",
      "D\n",
      "E\n"
     ]
    },
    {
     "data": {
      "text/plain": [
       "['A', 'B', 'D', 'E']"
      ]
     },
     "execution_count": 74,
     "metadata": {},
     "output_type": "execute_result"
    }
   ],
   "source": [
    "l = ['A', 'B', 'Cool', 'D', 'E']\n",
    "\n",
    "# 복제된 object로 반복문을 돌렸으며, 수정되는 것은 원본 object이기 때문에 제대로 5번 반복되었다.\n",
    "for i in l[:]:\n",
    "    print(i)\n",
    "    \n",
    "    if len(i) > 1:\n",
    "        l.remove(i)\n",
    "        \n",
    "l"
   ]
  },
  {
   "cell_type": "markdown",
   "metadata": {},
   "source": [
    "# Exceptions\n",
    "---\n",
    "\n",
    "* **Syntax errors** (also known as parsing errors) : 말 그대로 문법적인 에러이다. 아래 예시처럼 괄호 쌍의 어느 한 쪽을 빼먹었다거나 쉼표, 콜론, 세미콜론 등 문법적인 요소를 잘못 사용한 경우에 해당한다. 문법적 에러가 발생한 경우는 다른 에러에 비하면 정말 행복한 거다. 어떤 파일의 몇 번째 줄의 어느 부분에서 에러가 발생했는 지 친절하게 알려주기 때문이며(The parser repeats the offending line and displays a little ‘arrow’ pointing at the earliest point in the line where the error was detected.), 대체로 고치기 어렵지 않다.\n",
    "\n",
    "\n",
    "※ vs. **Logic errors** (also known as bugs)"
   ]
  },
  {
   "cell_type": "code",
   "execution_count": 18,
   "metadata": {},
   "outputs": [
    {
     "ename": "SyntaxError",
     "evalue": "unexpected EOF while parsing (<ipython-input-18-0da254314ed6>, line 1)",
     "output_type": "error",
     "traceback": [
      "\u001b[1;36m  File \u001b[1;32m\"<ipython-input-18-0da254314ed6>\"\u001b[1;36m, line \u001b[1;32m1\u001b[0m\n\u001b[1;33m    print(\"Hello World!\"\u001b[0m\n\u001b[1;37m                        ^\u001b[0m\n\u001b[1;31mSyntaxError\u001b[0m\u001b[1;31m:\u001b[0m unexpected EOF while parsing\n"
     ]
    }
   ],
   "source": [
    "print(\"Hello World!\""
   ]
  },
  {
   "cell_type": "markdown",
   "metadata": {},
   "source": [
    "* **Exceptions** : 문법적으로는 오류가 없지만 여전히 에러가 발생할 수 있다. 프로그램 실행 시 발생하는 에러를 Python에서는 exception이라 부르고 exception handler를 사용하여 다룬다. 아래 예시에서 볼 수 있듯, 에러가 발생한 줄의 위치를 표시해주고 에러 메시지 맨 끝에 exception 종류와 상세설명을 출력해준다(The last line of the error message indicates what happened. Exceptions come in different types, and the type is printed as part of the message: the types in the example are ZeroDivisionError, NameError and TypeError. The string printed as the exception type is the name of the built-in exception that occurred.).\n",
    "\n",
    "\n",
    "※ Runtime error와 Python의 exception이 정확히 일치하는 개념인 것 같지는 않다. 공식 튜토리얼의 예시를 보면 Python exception이 좀 더 포괄적인 범위의 에러를 다루는 것으로 보인다."
   ]
  },
  {
   "cell_type": "code",
   "execution_count": 24,
   "metadata": {},
   "outputs": [
    {
     "ename": "ZeroDivisionError",
     "evalue": "division by zero",
     "output_type": "error",
     "traceback": [
      "\u001b[1;31m---------------------------------------------------------------------------\u001b[0m",
      "\u001b[1;31mZeroDivisionError\u001b[0m                         Traceback (most recent call last)",
      "\u001b[1;32m<ipython-input-24-74eb5088777e>\u001b[0m in \u001b[0;36m<module>\u001b[1;34m()\u001b[0m\n\u001b[0;32m      1\u001b[0m \u001b[1;31m# [Error] ZeroDivisionError\u001b[0m\u001b[1;33m\u001b[0m\u001b[1;33m\u001b[0m\u001b[0m\n\u001b[1;32m----> 2\u001b[1;33m \u001b[1;36m10\u001b[0m \u001b[1;33m*\u001b[0m \u001b[1;33m(\u001b[0m\u001b[1;36m1\u001b[0m \u001b[1;33m/\u001b[0m \u001b[1;36m0\u001b[0m\u001b[1;33m)\u001b[0m\u001b[1;33m\u001b[0m\u001b[0m\n\u001b[0m",
      "\u001b[1;31mZeroDivisionError\u001b[0m: division by zero"
     ]
    }
   ],
   "source": [
    "# [Error] ZeroDivisionError \n",
    "10 * (1 / 0)"
   ]
  },
  {
   "cell_type": "code",
   "execution_count": 23,
   "metadata": {},
   "outputs": [
    {
     "ename": "NameError",
     "evalue": "name 'spam' is not defined",
     "output_type": "error",
     "traceback": [
      "\u001b[1;31m---------------------------------------------------------------------------\u001b[0m",
      "\u001b[1;31mNameError\u001b[0m                                 Traceback (most recent call last)",
      "\u001b[1;32m<ipython-input-23-6d5cf0eea736>\u001b[0m in \u001b[0;36m<module>\u001b[1;34m()\u001b[0m\n\u001b[0;32m      1\u001b[0m \u001b[1;31m# [Error] NameError\u001b[0m\u001b[1;33m\u001b[0m\u001b[1;33m\u001b[0m\u001b[0m\n\u001b[1;32m----> 2\u001b[1;33m \u001b[1;36m4\u001b[0m \u001b[1;33m+\u001b[0m \u001b[0mspam\u001b[0m \u001b[1;33m*\u001b[0m \u001b[1;36m3\u001b[0m\u001b[1;33m\u001b[0m\u001b[0m\n\u001b[0m",
      "\u001b[1;31mNameError\u001b[0m: name 'spam' is not defined"
     ]
    }
   ],
   "source": [
    "# [Error] NameError\n",
    "4 + spam * 3"
   ]
  },
  {
   "cell_type": "code",
   "execution_count": 27,
   "metadata": {},
   "outputs": [
    {
     "ename": "TypeError",
     "evalue": "must be str, not int",
     "output_type": "error",
     "traceback": [
      "\u001b[1;31m---------------------------------------------------------------------------\u001b[0m",
      "\u001b[1;31mTypeError\u001b[0m                                 Traceback (most recent call last)",
      "\u001b[1;32m<ipython-input-27-3b02c0b3a659>\u001b[0m in \u001b[0;36m<module>\u001b[1;34m()\u001b[0m\n\u001b[0;32m      1\u001b[0m \u001b[1;31m# [Error] TypeError\u001b[0m\u001b[1;33m\u001b[0m\u001b[1;33m\u001b[0m\u001b[0m\n\u001b[1;32m----> 2\u001b[1;33m \u001b[1;34m'2'\u001b[0m \u001b[1;33m+\u001b[0m \u001b[1;36m2\u001b[0m\u001b[1;33m\u001b[0m\u001b[0m\n\u001b[0m",
      "\u001b[1;31mTypeError\u001b[0m: must be str, not int"
     ]
    }
   ],
   "source": [
    "# [Error] TypeError\n",
    "'2' + 2"
   ]
  },
  {
   "cell_type": "markdown",
   "metadata": {},
   "source": [
    "* This is true for all **[built-in exceptions](https://docs.python.org/3/library/exceptions.html#bltin-exceptions)**, but need not be true for **user-defined exceptions** (although it is a useful convention). Standard exception names are **built-in identifiers** (not reserved keywords)."
   ]
  },
  {
   "cell_type": "code",
   "execution_count": 34,
   "metadata": {},
   "outputs": [
    {
     "data": {
      "text/plain": [
       "ZeroDivisionError"
      ]
     },
     "execution_count": 34,
     "metadata": {},
     "output_type": "execute_result"
    }
   ],
   "source": [
    "__builtin__.ZeroDivisionError "
   ]
  },
  {
   "cell_type": "code",
   "execution_count": 35,
   "metadata": {},
   "outputs": [
    {
     "data": {
      "text/plain": [
       "NameError"
      ]
     },
     "execution_count": 35,
     "metadata": {},
     "output_type": "execute_result"
    }
   ],
   "source": [
    "__builtin__.NameError"
   ]
  },
  {
   "cell_type": "code",
   "execution_count": 36,
   "metadata": {},
   "outputs": [
    {
     "data": {
      "text/plain": [
       "TypeError"
      ]
     },
     "execution_count": 36,
     "metadata": {},
     "output_type": "execute_result"
    }
   ],
   "source": [
    "__builtin__.TypeError"
   ]
  },
  {
   "cell_type": "markdown",
   "metadata": {},
   "source": [
    "## 예외 처리 (Exception Handling)\n",
    "---\n",
    "\n",
    "`try`, `except`, `else`, `finally`\n",
    "\n",
    "\n",
    "귀찮지만, 특히 목적하는 바를 구현하는 데 있서 예외 처리 구문이 전혀 필요하지 않은 경우엔 더욱 더 귀찮지만, 예외 처리와 최대한 친해지는 것이 정신건강에 이롭다. 왜냐? 우리는 에러 메시지를 무수히 봐왔고, 앞으로도 그럴 것이므로... 에러 메시지가 떴을 때 ~~(스트레스는 매우 받겠지만)~~ 더 이상 겁먹거나 우왕좌왕 하지 말고 차분히 대처하자.\n",
    "\n",
    "\n",
    "```python\n",
    "# try clause: 예외 발생 유무를 확인할 코드\n",
    "try:\n",
    "    pass\n",
    "# except clause: 예외가 발생할 경우 실행 (예외가 발생하지 않을 경우 생략)\n",
    "# 정확하게는 발생한 예외의 이름(exception1, exception2, ...)이 일치하는 except clause가 실행된다.\n",
    "# 따라서 다수의 예외에 대해 각각 선택적으로 처리가 가능하다.\n",
    "except exception1:\n",
    "    pass\n",
    "except exception2:\n",
    "    pass\n",
    "# 다수의 예외를 tuple로 묶어서 한꺼번에 처리할 수도 있다.\n",
    "except (exception3, exception4, exception5):\n",
    "    pass\n",
    "# 위에서 명시하지 않은 기타 예외가 발생할 경우 실행\n",
    "except:\n",
    "    pass\n",
    "# except clause: 예외가 발생하지 않을 경우 실행 (예외가 발생할 경우 생략)\n",
    "else:\n",
    "    pass\n",
    "# 예외 발생 유무와 관계 없이 실행\n",
    "finally:\n",
    "    pass\n",
    "\n",
    "\n",
    "# 일치하는 이름의 예외에 대한 처리(handler: except clause)가 명시되어 있지 않다면\n",
    "```"
   ]
  },
  {
   "cell_type": "code",
   "execution_count": 38,
   "metadata": {},
   "outputs": [
    {
     "name": "stdout",
     "output_type": "stream",
     "text": [
      "Hello\n"
     ]
    }
   ],
   "source": [
    "user_input = input()"
   ]
  },
  {
   "cell_type": "code",
   "execution_count": 39,
   "metadata": {},
   "outputs": [
    {
     "data": {
      "text/plain": [
       "str"
      ]
     },
     "execution_count": 39,
     "metadata": {},
     "output_type": "execute_result"
    }
   ],
   "source": [
    "type(user_input)"
   ]
  },
  {
   "cell_type": "code",
   "execution_count": 40,
   "metadata": {},
   "outputs": [
    {
     "data": {
      "text/plain": [
       "'Hello'"
      ]
     },
     "execution_count": 40,
     "metadata": {},
     "output_type": "execute_result"
    }
   ],
   "source": [
    "user_input"
   ]
  },
  {
   "cell_type": "markdown",
   "metadata": {},
   "source": [
    "`input`은 숫자를 입력해도 str로 받으므로 casting이 필요하다."
   ]
  },
  {
   "cell_type": "code",
   "execution_count": 42,
   "metadata": {},
   "outputs": [
    {
     "name": "stdout",
     "output_type": "stream",
     "text": [
      "522\n"
     ]
    }
   ],
   "source": [
    "user_input = input()"
   ]
  },
  {
   "cell_type": "code",
   "execution_count": 43,
   "metadata": {},
   "outputs": [
    {
     "data": {
      "text/plain": [
       "str"
      ]
     },
     "execution_count": 43,
     "metadata": {},
     "output_type": "execute_result"
    }
   ],
   "source": [
    "type(user_input)"
   ]
  },
  {
   "cell_type": "code",
   "execution_count": 49,
   "metadata": {},
   "outputs": [
    {
     "data": {
      "text/plain": [
       "522"
      ]
     },
     "execution_count": 49,
     "metadata": {},
     "output_type": "execute_result"
    }
   ],
   "source": [
    "user_input"
   ]
  },
  {
   "cell_type": "code",
   "execution_count": 47,
   "metadata": {},
   "outputs": [
    {
     "data": {
      "text/plain": [
       "int"
      ]
     },
     "execution_count": 47,
     "metadata": {},
     "output_type": "execute_result"
    }
   ],
   "source": [
    "user_input = int(user_input)\n",
    "\n",
    "type(user_input)"
   ]
  },
  {
   "cell_type": "code",
   "execution_count": 48,
   "metadata": {},
   "outputs": [
    {
     "data": {
      "text/plain": [
       "522"
      ]
     },
     "execution_count": 48,
     "metadata": {},
     "output_type": "execute_result"
    }
   ],
   "source": [
    "user_input"
   ]
  },
  {
   "cell_type": "markdown",
   "metadata": {},
   "source": [
    "그런데 여기서 문제가 발생한다. 숫자가 아닌 사용자 입력을 int로 casting하면 에러가 발생하기 때문이다."
   ]
  },
  {
   "cell_type": "code",
   "execution_count": 60,
   "metadata": {},
   "outputs": [
    {
     "name": "stdout",
     "output_type": "stream",
     "text": [
      "MMMIL\n"
     ]
    },
    {
     "ename": "ValueError",
     "evalue": "invalid literal for int() with base 10: 'MMMIL'",
     "output_type": "error",
     "traceback": [
      "\u001b[1;31m---------------------------------------------------------------------------\u001b[0m",
      "\u001b[1;31mValueError\u001b[0m                                Traceback (most recent call last)",
      "\u001b[1;32m<ipython-input-60-91788be32ba1>\u001b[0m in \u001b[0;36m<module>\u001b[1;34m()\u001b[0m\n\u001b[1;32m----> 1\u001b[1;33m \u001b[0mint\u001b[0m\u001b[1;33m(\u001b[0m\u001b[0minput\u001b[0m\u001b[1;33m(\u001b[0m\u001b[1;33m)\u001b[0m\u001b[1;33m)\u001b[0m\u001b[1;33m\u001b[0m\u001b[0m\n\u001b[0m",
      "\u001b[1;31mValueError\u001b[0m: invalid literal for int() with base 10: 'MMMIL'"
     ]
    }
   ],
   "source": [
    "int(input())"
   ]
  },
  {
   "cell_type": "markdown",
   "metadata": {},
   "source": [
    "Control flow를 배웠으니 고전적인 연습문제인 구구단을 만들어 볼 건데, 사용자로부터 몇 단을 출력할 것인지를 입력받으려 한다."
   ]
  },
  {
   "cell_type": "code",
   "execution_count": 53,
   "metadata": {},
   "outputs": [
    {
     "name": "stdout",
     "output_type": "stream",
     "text": [
      "Enter a number:9\n",
      "9\n",
      "18\n",
      "27\n",
      "36\n",
      "45\n",
      "54\n",
      "63\n",
      "72\n",
      "81\n"
     ]
    }
   ],
   "source": [
    "user_input = input('Enter a number:')\n",
    "num = int(user_input) if 1 < int(user_input) < 10 else 0\n",
    "    \n",
    "for i in range(1, 10):\n",
    "    print(num * i)"
   ]
  },
  {
   "cell_type": "markdown",
   "metadata": {},
   "source": [
    "예외 처리 및 재귀 호출이 정의된 함수를 만들어 사용하거나,"
   ]
  },
  {
   "cell_type": "code",
   "execution_count": 54,
   "metadata": {},
   "outputs": [],
   "source": [
    "def gugudan():\n",
    "    try:\n",
    "        user_input = input('Enter a number:')\n",
    "        num = int(user_input)\n",
    "    except:\n",
    "        print('잘못된 입력입니다. 숫자를 입력하세요.')\n",
    "        gugudan()\n",
    "    else:\n",
    "        num = int(user_input) if 1 < int(user_input) < 10 else 0\n",
    "\n",
    "        for i in range(1, 10):\n",
    "            print(num * i)"
   ]
  },
  {
   "cell_type": "code",
   "execution_count": 56,
   "metadata": {},
   "outputs": [
    {
     "name": "stdout",
     "output_type": "stream",
     "text": [
      "Enter a number:MMMIL\n",
      "잘못된 입력입니다. 숫자를 입력하세요.\n",
      "Enter a number:?????\n",
      "잘못된 입력입니다. 숫자를 입력하세요.\n",
      "Enter a number:5\n",
      "5\n",
      "10\n",
      "15\n",
      "20\n",
      "25\n",
      "30\n",
      "35\n",
      "40\n",
      "45\n"
     ]
    }
   ],
   "source": [
    "gugudan()"
   ]
  },
  {
   "cell_type": "markdown",
   "metadata": {},
   "source": [
    "예외 처리 및 탈출 구조를 갖춘 무한 루프를 사용한다."
   ]
  },
  {
   "cell_type": "code",
   "execution_count": 59,
   "metadata": {},
   "outputs": [
    {
     "name": "stdout",
     "output_type": "stream",
     "text": [
      "Enter a number:MMMIL\n",
      "잘못된 입력입니다. 숫자를 입력하세요.\n",
      "Enter a number:999\n",
      "잘못된 입력입니다. 2~9의 정수를 입력하세요.\n",
      "Enter a number:7\n",
      "7\n",
      "14\n",
      "21\n",
      "28\n",
      "35\n",
      "42\n",
      "49\n",
      "56\n",
      "63\n"
     ]
    }
   ],
   "source": [
    "flag = True\n",
    "while flag:\n",
    "    try:\n",
    "        user_input = input('Enter a number:')\n",
    "        num = int(user_input)\n",
    "    except:\n",
    "        print('잘못된 입력입니다. 숫자를 입력하세요.')\n",
    "        continue\n",
    "    else:\n",
    "        num = int(user_input) if 1 < int(user_input) < 10 else 0\n",
    "\n",
    "        if num == 0:\n",
    "            print('잘못된 입력입니다. 2~9의 정수를 입력하세요.')\n",
    "            continue\n",
    "        \n",
    "        for i in range(1, 10):\n",
    "            print(num * i)\n",
    "        \n",
    "        flag = not flag"
   ]
  }
 ],
 "metadata": {
  "kernelspec": {
   "display_name": "Python 3",
   "language": "python",
   "name": "python3"
  },
  "language_info": {
   "codemirror_mode": {
    "name": "ipython",
    "version": 3
   },
   "file_extension": ".py",
   "mimetype": "text/x-python",
   "name": "python",
   "nbconvert_exporter": "python",
   "pygments_lexer": "ipython3",
   "version": "3.6.6"
  }
 },
 "nbformat": 4,
 "nbformat_minor": 2
}
