{
 "cells": [
  {
   "cell_type": "markdown",
   "metadata": {},
   "source": [
    "# BIGDATA X CAMPUS\n",
    "---\n",
    "\n",
    "* 2018.07.09\n",
    "* 김태진 (가천대학교 의용생체공학과)\n",
    "\n",
    "\n",
    "## Python Dictionary Exercises\n",
    "---"
   ]
  },
  {
   "cell_type": "markdown",
   "metadata": {},
   "source": [
    "### 1. Exercise 129: Two Dice Simulation\n",
    "---"
   ]
  },
  {
   "cell_type": "code",
   "execution_count": 1,
   "metadata": {
    "collapsed": true
   },
   "outputs": [],
   "source": [
    "def roll_dice():\n",
    "    \"\"\"Roll two dice and return the total of them.\"\"\"\n",
    "    \n",
    "    dice_res1 = random.randint(1, 6)\n",
    "    dice_res2 = random.randint(1, 6)\n",
    "    \n",
    "    dice_res = dice_res1 + dice_res2\n",
    "    \n",
    "    return dice_res"
   ]
  },
  {
   "cell_type": "code",
   "execution_count": 2,
   "metadata": {},
   "outputs": [
    {
     "name": "stdout",
     "output_type": "stream",
     "text": [
      "     Total      Simulated       Expected\n",
      "         2          3.90%          2.78%\n",
      "         3          4.00%          5.56%\n",
      "         4          8.10%          8.33%\n",
      "         5          9.90%         11.11%\n",
      "         6         14.00%         13.89%\n",
      "         7         17.90%         16.67%\n",
      "         8         14.00%         13.89%\n",
      "         9         11.10%         11.11%\n",
      "        10          8.90%          8.33%\n",
      "        11          5.50%          5.56%\n",
      "        12          2.70%          2.78%\n"
     ]
    }
   ],
   "source": [
    "import random\n",
    "\n",
    "dice_cnt = {2:0, 3:0, 4:0, 5:0, 6:0, 7:0, 8:0, 9:0, 10:0, 11:0, 12:0}\n",
    "dice_per = {2:1/36, 3:2/36, 4:3/36, 5:4/36, 6:5/36,\n",
    "            7:6/36, 8:5/36, 9:4/36, 10:3/36, 11:2/36, 12:1/36}\n",
    "\n",
    "for i in range(1000):\n",
    "    key = roll_dice()\n",
    "    dice_cnt[key] += 1\n",
    "else:  \n",
    "    print('{0:>10}{1:>15}{2:>15}'.format('Total', 'Simulated', 'Expected'))\n",
    "    for i in dice_cnt:\n",
    "        print('{0:>10}{1:>15.2%}{2:>15.2%}'.format(i, dice_cnt[i]/1000, dice_per[i]))"
   ]
  },
  {
   "cell_type": "markdown",
   "metadata": {},
   "source": [
    "### 2. Exercise 130: Text Messaging\n",
    "---"
   ]
  },
  {
   "cell_type": "code",
   "execution_count": 3,
   "metadata": {},
   "outputs": [
    {
     "name": "stdout",
     "output_type": "stream",
     "text": [
      "Enter a message: Hello World!*****\n",
      "Keys:  44335555556660966677755531111\n"
     ]
    }
   ],
   "source": [
    "keypad = {0:' ', 1:'.,?!:', 2:'ABC', 3:'DEF', 4:'GHI',\n",
    "          5:'JKL', 6:'MNO', 7:'PQRS', 8:'TUV', 9:'WXYZ',}\n",
    "\n",
    "keypad_input = ''\n",
    "user_input = str.upper(input('Enter a message: '))\n",
    "\n",
    "for c_input in user_input:\n",
    "    for key in range(10):\n",
    "        try:\n",
    "            for idx, c in enumerate(keypad[key]):\n",
    "                if c_input == c:\n",
    "                    keypad_input += str(key) * (idx + 1)\n",
    "        except:\n",
    "            pass\n",
    "else:\n",
    "    print('Keys: ', keypad_input)"
   ]
  },
  {
   "cell_type": "markdown",
   "metadata": {},
   "source": [
    "### 3. Exercise 131: Morse Code\n",
    "---"
   ]
  },
  {
   "cell_type": "code",
   "execution_count": 4,
   "metadata": {
    "scrolled": true
   },
   "outputs": [
    {
     "name": "stdout",
     "output_type": "stream",
     "text": [
      "Enter a message: Hello World!*****\n",
      "Morse code:  .... . .-.. .-.. --- .-- --- .-. .-.. -.. \n"
     ]
    }
   ],
   "source": [
    "morse_code = {'A': '.-',     'B': '-...',   'C': '-.-.',\n",
    "              'D': '-..',    'E': '.',      'F': '..-.',\n",
    "              'G': '--.',    'H': '....',   'I': '..',\n",
    "              'J': '.---',   'K': '-.-',    'L': '.-..',\n",
    "              'M': '--',     'N': '-.',     'O': '---',\n",
    "              'P': '.--.',   'Q': '--.-',   'R': '.-.',\n",
    "              'S': '...',    'T': '-',      'U': '..-',\n",
    "              'V': '...-',   'W': '.--',    'X': '-..-',\n",
    "              'Y': '-.--',   'Z': '--..',\n",
    "\n",
    "              '0': '-----',  '1': '.----',  '2': '..---',\n",
    "              '3': '...--',  '4': '....-',  '5': '.....',\n",
    "              '6': '-....',  '7': '--...',  '8': '---..',\n",
    "              '9': '----.'}\n",
    "\n",
    "morse_input = ''\n",
    "user_input = str.upper(input('Enter a message: '))\n",
    "\n",
    "for key in user_input:\n",
    "    try:\n",
    "        morse_input += morse_code[key] + ' '\n",
    "    except:\n",
    "        pass\n",
    "else:\n",
    "    print('Morse code: ', morse_input)"
   ]
  },
  {
   "cell_type": "markdown",
   "metadata": {},
   "source": [
    "### 4. Exercise 132: Postal Codes\n",
    "---"
   ]
  },
  {
   "cell_type": "code",
   "execution_count": 5,
   "metadata": {},
   "outputs": [
    {
     "name": "stdout",
     "output_type": "stream",
     "text": [
      "Enter a postal code: T2N 1N4\n",
      "The postal code is for a/an urban address in Alberta.\n"
     ]
    }
   ],
   "source": [
    "# Province\n",
    "p_code1 = {'A':'Newfoundland', 'B':'Nova Scotia', 'C':'Prince Edward Island',\n",
    "          'E':'New Brunswick', ('G', 'H', 'J'):'Quebec',\n",
    "          ('K', 'L', 'M', 'N', 'P'):'Ontario', 'R':'Manitoba',\n",
    "          'S':'Saskatchewan', 'T':'Alberta', 'V':'British Columbia',\n",
    "          'X':('Nunavut', 'Northwest Territories'), 'Y':'Yukon'}\n",
    "\n",
    "flag = True\n",
    "while flag:\n",
    "    try:\n",
    "        pc_input = input('Enter a postal code: ')\n",
    "        \n",
    "        pc1_key = pc_input[0]\n",
    "        if pc_input[1] == 0:\n",
    "            r_or_u = 'rural'\n",
    "        else:\n",
    "            r_or_u = 'urban'\n",
    "        \n",
    "        print('The postal code is for a/an {0} address in {1}.'.format(r_or_u, p_code1[pc1_key]))\n",
    "    except:\n",
    "        print('The post code you entered is invalid.')\n",
    "        print('Please enter again.')\n",
    "    else:\n",
    "        flag = not flag"
   ]
  }
 ],
 "metadata": {
  "kernelspec": {
   "display_name": "Python 3",
   "language": "python",
   "name": "python3"
  },
  "language_info": {
   "codemirror_mode": {
    "name": "ipython",
    "version": 3
   },
   "file_extension": ".py",
   "mimetype": "text/x-python",
   "name": "python",
   "nbconvert_exporter": "python",
   "pygments_lexer": "ipython3",
   "version": "3.6.5"
  }
 },
 "nbformat": 4,
 "nbformat_minor": 2
}
