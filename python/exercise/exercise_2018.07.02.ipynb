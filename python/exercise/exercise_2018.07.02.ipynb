{
 "cells": [
  {
   "cell_type": "markdown",
   "metadata": {},
   "source": [
    "# Big Data X Campus\n",
    "---\n",
    "\n",
    "* 2018.07.02\n",
    "* 김태진 (가천대학교 의용생체공학과)\n",
    "\n",
    "\n",
    "## 다뤄보고 싶은 빅데이터\n",
    "---\n",
    "\n",
    "1. 의료영상을 비롯한 의료 데이터\n",
    "2. 미세먼지 등 기상 데이터\n",
    "3. 고령화, 출산율, 실업율 등 사회적 문제에 대한 데이터"
   ]
  }
 ],
 "metadata": {
  "kernelspec": {
   "display_name": "Python 3",
   "language": "python",
   "name": "python3"
  },
  "language_info": {
   "codemirror_mode": {
    "name": "ipython",
    "version": 3
   },
   "file_extension": ".py",
   "mimetype": "text/x-python",
   "name": "python",
   "nbconvert_exporter": "python",
   "pygments_lexer": "ipython3",
   "version": "3.6.5"
  }
 },
 "nbformat": 4,
 "nbformat_minor": 2
}
