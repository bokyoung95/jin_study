{
 "cells": [
  {
   "cell_type": "markdown",
   "metadata": {},
   "source": [
    "# BIGDATA X CAMPUS\n",
    "---\n",
    "\n",
    "* 2018.07.05\n",
    "* 김태진 (가천대학교 의용생체공학과)\n",
    "\n",
    "\n",
    "## Python Function Exercises\n",
    "---"
   ]
  },
  {
   "cell_type": "markdown",
   "metadata": {},
   "source": [
    "### 1. Exercise 82: Taxi Fare\n",
    "---"
   ]
  },
  {
   "cell_type": "code",
   "execution_count": 4,
   "metadata": {
    "collapsed": true
   },
   "outputs": [],
   "source": [
    "def taxi(distance=0):\n",
    "    'Calculate a total fare of taxi.'\n",
    "    \n",
    "    base_fare = 4\n",
    "    add_fare = 0.25    # per 140 meters\n",
    "    distance = distance * 1000    # kilometer to meter\n",
    "    total_fare = base_fare + (add_fare * (distance // 140))\n",
    "    \n",
    "    return total_fare"
   ]
  },
  {
   "cell_type": "code",
   "execution_count": 7,
   "metadata": {},
   "outputs": [
    {
     "name": "stdout",
     "output_type": "stream",
     "text": [
      "4.0\n",
      "12.75\n",
      "21.75\n",
      "29.0\n"
     ]
    }
   ],
   "source": [
    "print(taxi())\n",
    "print(taxi(5))\n",
    "print(taxi(10))\n",
    "print(taxi(14))"
   ]
  },
  {
   "cell_type": "markdown",
   "metadata": {},
   "source": [
    "### 2. Exercise 84: Median of Three Values\n",
    "---"
   ]
  },
  {
   "cell_type": "code",
   "execution_count": 35,
   "metadata": {
    "collapsed": true
   },
   "outputs": [],
   "source": [
    "def median(x=0, y=0, z=0):\n",
    "    'Calculate a median value of numbers.'\n",
    "    \n",
    "    nums_list = []\n",
    "    nums_list.extend((x, y, z))\n",
    "    nums_list.sort()\n",
    "    \n",
    "    median_val = nums_list[1]\n",
    "    \n",
    "    return median_val"
   ]
  },
  {
   "cell_type": "code",
   "execution_count": 37,
   "metadata": {},
   "outputs": [
    {
     "name": "stdout",
     "output_type": "stream",
     "text": [
      "0\n",
      "10\n",
      "-15\n",
      "15\n"
     ]
    }
   ],
   "source": [
    "print(median())\n",
    "print(median(0, 10, 20))\n",
    "print(median(-20, -15, -10))\n",
    "print(median(10, 15, 20))"
   ]
  },
  {
   "cell_type": "markdown",
   "metadata": {},
   "source": [
    "### 3. Exercise 85: Convert an Integer to its Ordinal Number\n",
    "---"
   ]
  },
  {
   "cell_type": "code",
   "execution_count": 69,
   "metadata": {
    "collapsed": true
   },
   "outputs": [],
   "source": [
    "def ordinal_num(num):\n",
    "    'Get a string of ordinal number.'\n",
    "    \n",
    "    key = num\n",
    "    ordinal_dict = {1:'first', 2:'second', 3:'third', \n",
    "                    4:'fourth', 5:'fifth', 6:'sixth', \n",
    "                    7:'seventh', 8:'eighth', 9:'ninth', \n",
    "                    10:'tenth', 11:'eleventh', 12:'twelfth'}\n",
    "    \n",
    "    if key in range(1, 13):\n",
    "        ordinal_str = ordinal_dict[key]\n",
    "    else:\n",
    "        ordinal_str = ''\n",
    "    \n",
    "    return ordinal_str"
   ]
  },
  {
   "cell_type": "code",
   "execution_count": 70,
   "metadata": {
    "scrolled": true
   },
   "outputs": [
    {
     "data": {
      "text/plain": [
       "['first',\n",
       " 'second',\n",
       " 'third',\n",
       " 'fourth',\n",
       " 'fifth',\n",
       " 'sixth',\n",
       " 'seventh',\n",
       " 'eighth',\n",
       " 'ninth',\n",
       " 'tenth',\n",
       " 'eleventh',\n",
       " 'twelfth']"
      ]
     },
     "execution_count": 70,
     "metadata": {},
     "output_type": "execute_result"
    }
   ],
   "source": [
    "[ordinal_num(x) for x in range(1, 13)]"
   ]
  },
  {
   "cell_type": "markdown",
   "metadata": {},
   "source": [
    "### 4. Exercise 86: The Twelve Days of Christmas*\n",
    "---"
   ]
  },
  {
   "cell_type": "code",
   "execution_count": null,
   "metadata": {
    "collapsed": true
   },
   "outputs": [],
   "source": []
  },
  {
   "cell_type": "markdown",
   "metadata": {},
   "source": [
    "### 5. Exercise 88: Is it a Valid Triangle?\n",
    "---"
   ]
  },
  {
   "cell_type": "code",
   "execution_count": 13,
   "metadata": {
    "collapsed": true
   },
   "outputs": [],
   "source": [
    "def triangle(len1, len2, len3):\n",
    "    'Whether or not the three lengths can form a triangle'\n",
    "    \n",
    "    len_list = []\n",
    "    len_list.extend((len1, len2, len3))\n",
    "    len_list.sort()\n",
    "    \n",
    "    if len_list[2] < (len_list[0] + len_list[1]):\n",
    "        valid = True\n",
    "    else:\n",
    "        valid = False\n",
    "    \n",
    "    return valid"
   ]
  },
  {
   "cell_type": "code",
   "execution_count": 16,
   "metadata": {},
   "outputs": [
    {
     "name": "stdout",
     "output_type": "stream",
     "text": [
      "Enter a length: aaa\n",
      "숫자를 입력해주세요.\n",
      "Enter a length: 0\n",
      "길이는 0보다 같거나 작을 수 없습니다.\n",
      "다시 입력해주세요.\n",
      "Enter a length: 10\n",
      "Enter a length: 16\n",
      "Enter a length: 13\n",
      "True\n"
     ]
    }
   ],
   "source": [
    "lengths = []\n",
    "\n",
    "for i in range(3):\n",
    "    flag = True\n",
    "    while flag:\n",
    "        try:\n",
    "            length = float(input('Enter a length: '))\n",
    "            \n",
    "            if length <= 0:\n",
    "                print('길이는 0보다 같거나 작을 수 없습니다.')\n",
    "                raise Exception('RangeError')\n",
    "        except ValueError:\n",
    "            print('숫자가 아닙니다. 숫자를 입력해주세요.')\n",
    "        except:\n",
    "            print('다시 입력해주세요.')\n",
    "        else:\n",
    "            lengths.append(length)\n",
    "            flag = not flag\n",
    "else:\n",
    "    print(triangle(lengths[0], lengths[1], lengths[2]))"
   ]
  },
  {
   "cell_type": "code",
   "execution_count": 15,
   "metadata": {},
   "outputs": [
    {
     "name": "stdout",
     "output_type": "stream",
     "text": [
      "False\n",
      "True\n"
     ]
    }
   ],
   "source": [
    "print(triangle(2, 6, 2))\n",
    "print(triangle(6, 6, 6))"
   ]
  },
  {
   "cell_type": "markdown",
   "metadata": {},
   "source": [
    "### 6. Exercise 89: Capitalize It*\n",
    "---"
   ]
  },
  {
   "cell_type": "code",
   "execution_count": null,
   "metadata": {
    "collapsed": true
   },
   "outputs": [],
   "source": []
  },
  {
   "cell_type": "markdown",
   "metadata": {},
   "source": [
    "### 7. Exercise 90: Does a String Represent an Integer?*\n",
    "---"
   ]
  },
  {
   "cell_type": "code",
   "execution_count": null,
   "metadata": {
    "collapsed": true
   },
   "outputs": [],
   "source": []
  },
  {
   "cell_type": "markdown",
   "metadata": {},
   "source": [
    "### 8. Exercise 92: Is a Number Prime?\n",
    "---"
   ]
  },
  {
   "cell_type": "code",
   "execution_count": 2,
   "metadata": {
    "collapsed": true
   },
   "outputs": [],
   "source": [
    "def prime_num(num):\n",
    "    'Whether or not it is a prime number'\n",
    "    \n",
    "    is_prime = True\n",
    "    \n",
    "    for div in range(2, num//2 + 1):\n",
    "        if num % div == 0:\n",
    "            is_prime = False\n",
    "            break;\n",
    "        else:\n",
    "            pass\n",
    "    \n",
    "    return is_prime"
   ]
  },
  {
   "cell_type": "code",
   "execution_count": 17,
   "metadata": {
    "scrolled": true
   },
   "outputs": [
    {
     "name": "stdout",
     "output_type": "stream",
     "text": [
      "Enter an integer greater than 1: 0\n",
      "소수는 1보다 커야 합니다.\n",
      "다시 입력해주세요.\n",
      "Enter an integer greater than 1: 1\n",
      "소수는 1보다 커야 합니다.\n",
      "다시 입력해주세요.\n",
      "Enter an integer greater than 1: aaa\n",
      "숫자를 입력해주세요.\n",
      "Enter an integer greater than 1: 11\n",
      "True\n"
     ]
    }
   ],
   "source": [
    "flag = True\n",
    "while flag:\n",
    "    try:\n",
    "        num = int(input('Enter an integer greater than 1: '))\n",
    "\n",
    "        if num <= 1:\n",
    "            print('소수는 1보다 커야 합니다.')\n",
    "            raise Exception('RangeError')\n",
    "    except ValueError:\n",
    "        print('숫자를 입력해주세요.')\n",
    "    except:\n",
    "        print('다시 입력해주세요.')\n",
    "    else:\n",
    "        flag = not flag\n",
    "else:\n",
    "    print(prime_num(num))"
   ]
  },
  {
   "cell_type": "code",
   "execution_count": 18,
   "metadata": {
    "scrolled": true
   },
   "outputs": [
    {
     "data": {
      "text/plain": [
       "[(2, True),\n",
       " (3, True),\n",
       " (5, True),\n",
       " (7, True),\n",
       " (11, True),\n",
       " (13, True),\n",
       " (17, True),\n",
       " (19, True),\n",
       " (23, True),\n",
       " (29, True),\n",
       " (31, True),\n",
       " (37, True),\n",
       " (41, True),\n",
       " (43, True),\n",
       " (47, True),\n",
       " (53, True),\n",
       " (59, True),\n",
       " (61, True),\n",
       " (67, True),\n",
       " (71, True),\n",
       " (73, True),\n",
       " (79, True),\n",
       " (83, True),\n",
       " (89, True),\n",
       " (97, True)]"
      ]
     },
     "execution_count": 18,
     "metadata": {},
     "output_type": "execute_result"
    }
   ],
   "source": [
    "[(x, prime_num(x)) for x in range(2, 101) if prime_num(x)]"
   ]
  },
  {
   "cell_type": "markdown",
   "metadata": {},
   "source": [
    "### 9. Exercise 93: Next Prime*\n",
    "---"
   ]
  },
  {
   "cell_type": "code",
   "execution_count": null,
   "metadata": {
    "collapsed": true
   },
   "outputs": [],
   "source": []
  },
  {
   "cell_type": "markdown",
   "metadata": {},
   "source": [
    "### 10. Exercise 96: Check a Password*\n",
    "---"
   ]
  },
  {
   "cell_type": "code",
   "execution_count": null,
   "metadata": {
    "collapsed": true
   },
   "outputs": [],
   "source": []
  }
 ],
 "metadata": {
  "kernelspec": {
   "display_name": "Python 3",
   "language": "python",
   "name": "python3"
  },
  "language_info": {
   "codemirror_mode": {
    "name": "ipython",
    "version": 3
   },
   "file_extension": ".py",
   "mimetype": "text/x-python",
   "name": "python",
   "nbconvert_exporter": "python",
   "pygments_lexer": "ipython3",
   "version": "3.6.5"
  }
 },
 "nbformat": 4,
 "nbformat_minor": 2
}
