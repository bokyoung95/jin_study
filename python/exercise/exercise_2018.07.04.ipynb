{
 "cells": [
  {
   "cell_type": "markdown",
   "metadata": {},
   "source": [
    "# BIGDATA X CAMPUS\n",
    "---\n",
    "\n",
    "* 2018.07.04\n",
    "* 김태진 (가천대학교 의용생체공학과)\n",
    "\n",
    "\n",
    "## Python Loop Exercises\n",
    "---"
   ]
  },
  {
   "cell_type": "markdown",
   "metadata": {},
   "source": [
    "### 1. Exercise 61: Average\n",
    "---"
   ]
  },
  {
   "cell_type": "code",
   "execution_count": 45,
   "metadata": {
    "scrolled": true
   },
   "outputs": [
    {
     "name": "stdout",
     "output_type": "stream",
     "text": [
      "Enter a number (zero to quit): aaa\n",
      "숫자를 입력해주세요.\n",
      "Enter a number (zero to quit): 0\n",
      "첫 번째 값은 0이 될 수 없습니다.\n",
      "다시 입력해주세요.\n",
      "Enter a number (zero to quit): 1.2\n",
      "Enter a number (zero to quit): 2.2\n",
      "Enter a number (zero to quit): 3.2\n",
      "Enter a number (zero to quit): 4.2\n",
      "Enter a number (zero to quit): 5.2\n",
      "Enter a number (zero to quit): 0\n",
      "3.2\n"
     ]
    }
   ],
   "source": [
    "num_list = []\n",
    "sum_nums = .0\n",
    "\n",
    "flag = True\n",
    "check_idx = True\n",
    "while flag:\n",
    "    try:\n",
    "        num = float(input('Enter a number (zero to quit): '))\n",
    "\n",
    "        if check_idx and num == 0:\n",
    "            print('첫 번째 값은 0이 될 수 없습니다.')\n",
    "            check_idx = not check_idx\n",
    "            raise Exception('FirstValueError')\n",
    "    except ValueError:\n",
    "        print('숫자를 입력해주세요.')\n",
    "    except:\n",
    "        print('다시 입력해주세요.')\n",
    "    else:\n",
    "        if num == 0:\n",
    "            flag = not flag\n",
    "        else:\n",
    "            num_list.append(num)\n",
    "else:\n",
    "    for idx, num in enumerate(num_list):\n",
    "        sum_nums += num\n",
    "    else:\n",
    "        avg = sum_nums / len(num_list)\n",
    "        print(avg)"
   ]
  },
  {
   "cell_type": "markdown",
   "metadata": {},
   "source": [
    "### 2. Exercise 63: Temperature Conversion Table\n",
    "---"
   ]
  },
  {
   "cell_type": "code",
   "execution_count": 6,
   "metadata": {},
   "outputs": [
    {
     "name": "stdout",
     "output_type": "stream",
     "text": [
      "Temperature Conversion Table\n",
      "     Celsius   Fahreheit\n",
      "        0.00       32.00\n",
      "       10.00       50.00\n",
      "       20.00       68.00\n",
      "       30.00       86.00\n",
      "       40.00      104.00\n",
      "       50.00      122.00\n",
      "       60.00      140.00\n",
      "       70.00      158.00\n",
      "       80.00      176.00\n",
      "       90.00      194.00\n",
      "      100.00      212.00\n"
     ]
    }
   ],
   "source": [
    "print('Temperature Conversion Table')\n",
    "print('{0:>12}{1:>12}'.format('Celsius', 'Fahreheit'))\n",
    "for c in range(0, 101, 10):\n",
    "    f = 1.8 * c + 32\n",
    "    print('{0:>12.2f}{1:>12.2f}'.format(c, f))"
   ]
  },
  {
   "cell_type": "markdown",
   "metadata": {},
   "source": [
    "### 3. Exercise 66: Compute a Grade Point Average\n",
    "---\n",
    "\n",
    "* 문제에서 에러 확인 안 해도 된다고 해서 예외처리 코드를 작성하지 않았지만, KeyError와 ZeroDivisionError가 발생할 수 있다."
   ]
  },
  {
   "cell_type": "code",
   "execution_count": 6,
   "metadata": {
    "scrolled": false
   },
   "outputs": [
    {
     "name": "stdout",
     "output_type": "stream",
     "text": [
      "Letter grade list: A+, A, A-, B+, B, B-, C+, C, C-, D+, D, F\n",
      "Enter a letter grade (blank to quit): A+\n",
      "Enter a letter grade (blank to quit): B+\n",
      "Enter a letter grade (blank to quit): C+\n",
      "Enter a letter grade (blank to quit): D+\n",
      "Enter a letter grade (blank to quit): F\n",
      "Enter a letter grade (blank to quit): \n",
      "2.18\n"
     ]
    }
   ],
   "source": [
    "letter_grade_dict = {'A+':4.0, 'A':4.0, 'A-':3.7,\n",
    "                     'B+':3.3, 'B':3.0, 'B-':2.7,\n",
    "                     'C+':2.3, 'C':2.0, 'C-':1.7,\n",
    "                     'D+':1.3, 'D':1.0, 'F':0.0}\n",
    "\n",
    "grade_pts = []\n",
    "sum_pts = .0\n",
    "avg_pts = .0\n",
    "\n",
    "print('Letter grade list: A+, A, A-, B+, B, B-, C+, C, C-, D+, D, F')\n",
    "flag = True\n",
    "while flag:\n",
    "    letter_grade = input('Enter a letter grade (blank to quit): ')\n",
    "\n",
    "    if letter_grade == '':\n",
    "        flag = not flag\n",
    "    else:\n",
    "        grade_pts.append(letter_grade_dict[letter_grade])\n",
    "else:\n",
    "    for idx, grade_pt in enumerate(grade_pts):\n",
    "        sum_pts += grade_pt\n",
    "    else:\n",
    "        avg_pts = sum_pts / len(grade_pts)\n",
    "        print(avg_pts)"
   ]
  },
  {
   "cell_type": "markdown",
   "metadata": {},
   "source": [
    "### 4. Exercise 67: Admission Price\n",
    "---"
   ]
  },
  {
   "cell_type": "code",
   "execution_count": 19,
   "metadata": {
    "scrolled": true
   },
   "outputs": [
    {
     "name": "stdout",
     "output_type": "stream",
     "text": [
      "Enter a age of you (blank to quit): 0\n",
      "Enter a age of you (blank to quit): 0\n",
      "Enter a age of you (blank to quit): 2\n",
      "Enter a age of you (blank to quit): 3\n",
      "Enter a age of you (blank to quit): 10\n",
      "Enter a age of you (blank to quit): 12\n",
      "Enter a age of you (blank to quit): 66\n",
      "Enter a age of you (blank to quit): 65\n",
      "Enter a age of you (blank to quit): 20\n",
      "Enter a age of you (blank to quit): 13\n",
      "Enter a age of you (blank to quit): 64\n",
      "Enter a age of you (blank to quit): 50\n",
      "Enter a age of you (blank to quit): \n",
      "Your total admission cost: $170.00\n"
     ]
    }
   ],
   "source": [
    "# 2세 이하, 3~12세, 13~64세, 65세 이상\n",
    "price = [0.00, 14.00, 23, 18]\n",
    "age_cnt = [0, 0, 0, 0]\n",
    "\n",
    "while True:\n",
    "    try:\n",
    "        age = input('Enter a age of you (blank to quit): ')\n",
    "\n",
    "        if age == '':\n",
    "            break\n",
    "        else:\n",
    "            age = int(age)\n",
    "            if age < 0:\n",
    "                print('나이는 0보다 작을 수 없습니다.')\n",
    "                raise Exception('RangeError')\n",
    "    except ValueError:\n",
    "        print('숫자가 아닙니다. 나이를 입력해주세요.')\n",
    "    except:\n",
    "        print('다시 입력해주세요.')\n",
    "    else:\n",
    "        if age <= 2:\n",
    "            age_cnt[0] += 1\n",
    "        elif 3 <= age <= 12:\n",
    "            age_cnt[1] += 1\n",
    "        elif age >= 65:\n",
    "            age_cnt[3] += 1\n",
    "        else:\n",
    "            age_cnt[2] += 1\n",
    "\n",
    "total_cost = .0\n",
    "for idx in range(1, 4):\n",
    "    total_cost += price[idx] * age_cnt[idx]\n",
    "else:\n",
    "    print('Your total admission cost: ${0:.2f}'.format(total_cost))"
   ]
  },
  {
   "cell_type": "markdown",
   "metadata": {},
   "source": [
    "### 5. Exercise 72: Is a String a Palindrome?\n",
    "---"
   ]
  },
  {
   "cell_type": "code",
   "execution_count": 7,
   "metadata": {},
   "outputs": [
    {
     "name": "stdout",
     "output_type": "stream",
     "text": [
      "Enter a word (blank to quit): level\n",
      "The word you entered is a palindrome.\n"
     ]
    }
   ],
   "source": [
    "word = input('Enter a word (blank to quit): ')\n",
    "    \n",
    "if word == '':\n",
    "    print('You entered a blank.')\n",
    "else:\n",
    "    reversed_word = word[::-1]\n",
    "    if word == reversed_word:\n",
    "        print('The word you entered is a palindrome.')\n",
    "    else:\n",
    "        print('The word you entered isn\\'t a palindrome.')"
   ]
  },
  {
   "cell_type": "markdown",
   "metadata": {},
   "source": [
    "### 6. Exercise 74: Multiplication Table\n",
    "---"
   ]
  },
  {
   "cell_type": "code",
   "execution_count": 12,
   "metadata": {},
   "outputs": [
    {
     "name": "stdout",
     "output_type": "stream",
     "text": [
      "       1   2   3   4   5   6   7   8   9  10\n",
      "   1   1   2   3   4   5   6   7   8   9  10\n",
      "   2   2   4   6   8  10  12  14  16  18  20\n",
      "   3   3   6   9  12  15  18  21  24  27  30\n",
      "   4   4   8  12  16  20  24  28  32  36  40\n",
      "   5   5  10  15  20  25  30  35  40  45  50\n",
      "   6   6  12  18  24  30  36  42  48  54  60\n",
      "   7   7  14  21  28  35  42  49  56  63  70\n",
      "   8   8  16  24  32  40  48  56  64  72  80\n",
      "   9   9  18  27  36  45  54  63  72  81  90\n",
      "  10  10  20  30  40  50  60  70  80  90 100\n"
     ]
    }
   ],
   "source": [
    "print('    ', end='')\n",
    "# print('{0:>4}'.format(''), end='')\n",
    "for i in range(1, 11):\n",
    "    print('{0:>4}'.format(i), end='')\n",
    "print()\n",
    "\n",
    "for i in range(1, 11):\n",
    "    print('{0:>4}'.format(i), end='')\n",
    "    \n",
    "    for j in range(1, 11):\n",
    "        print('{0:>4}'.format(i * j), end='')\n",
    "\n",
    "    print()"
   ]
  },
  {
   "cell_type": "markdown",
   "metadata": {},
   "source": [
    "### 7. Exercise 75: Greatest Common Divisor\n",
    "---"
   ]
  },
  {
   "cell_type": "code",
   "execution_count": 5,
   "metadata": {},
   "outputs": [
    {
     "name": "stdout",
     "output_type": "stream",
     "text": [
      "Enter a positive integer (zero to quit): 10\n",
      "Enter a positive integer (zero to quit): 4\n",
      "The greatest common divisor:  2\n"
     ]
    }
   ],
   "source": [
    "nums = []\n",
    "\n",
    "flag = True\n",
    "while flag:\n",
    "    try:\n",
    "        num = int(input('Enter a positive integer (zero to quit): '))\n",
    "    except ValueError:\n",
    "        print('숫자가 아닙니다. 정수를 입력해주세요.')\n",
    "    except:\n",
    "        print('다시 입력해주세요.')\n",
    "    else:\n",
    "        if num == 0:\n",
    "            flag = not flag\n",
    "        else:\n",
    "            nums.append(num)\n",
    "            \n",
    "        if len(nums) == 2:\n",
    "            if nums[0] >= nums[1]:\n",
    "                greatest_common_divisor = nums[1]\n",
    "            else:\n",
    "                greatest_common_divisor = nums[0]\n",
    "        \n",
    "            while flag:\n",
    "                if (nums[0] % greatest_common_divisor == 0) and (nums[1] % greatest_common_divisor == 0):\n",
    "#                 if [n % greatest_common_divisor == 0 for n in nums]\n",
    "                    print('The greatest common divisor: ', greatest_common_divisor)\n",
    "                    flag = not flag\n",
    "                else:\n",
    "                    greatest_common_divisor -= 1"
   ]
  },
  {
   "cell_type": "markdown",
   "metadata": {},
   "source": [
    "### 8. Exercise 77: Binary to Decimal\n",
    "---"
   ]
  },
  {
   "cell_type": "code",
   "execution_count": 3,
   "metadata": {},
   "outputs": [
    {
     "name": "stdout",
     "output_type": "stream",
     "text": [
      "Enter a binary numeber (blank to quit): 1000\n",
      "The equivalent decimal number:  8\n",
      "Enter a binary numeber (blank to quit): 1010\n",
      "The equivalent decimal number:  10\n",
      "Enter a binary numeber (blank to quit): \n"
     ]
    }
   ],
   "source": [
    "decimal_num = 0\n",
    "\n",
    "flag = True\n",
    "while flag:\n",
    "    try:\n",
    "        binary_num = input('Enter a binary numeber (blank to quit): ')\n",
    "    except:\n",
    "        print('다시 입력해주세요.')\n",
    "    else:\n",
    "        if binary_num == '':\n",
    "            flag = not flag\n",
    "        else:\n",
    "            for idx, n in enumerate(binary_num[::-1]):\n",
    "                decimal_num += int(n) * (2**idx)\n",
    "            print('The equivalent decimal number: ', decimal_num)\n",
    "            \n",
    "            decimal_num = 0"
   ]
  },
  {
   "cell_type": "markdown",
   "metadata": {},
   "source": [
    "### 9. Exercise 78: Decimal to Binary\n",
    "---"
   ]
  },
  {
   "cell_type": "code",
   "execution_count": 6,
   "metadata": {},
   "outputs": [
    {
     "name": "stdout",
     "output_type": "stream",
     "text": [
      "Enter a positive integer (zero to quit): 8\n",
      "The equivalent binary number:  1000\n",
      "Enter a positive integer (zero to quit): 10\n",
      "The equivalent binary number:  1010\n",
      "Enter a positive integer (zero to quit): 0\n"
     ]
    }
   ],
   "source": [
    "binary_num = ''\n",
    "\n",
    "flag = True\n",
    "while flag:\n",
    "    try:\n",
    "        decimal_num = int(input('Enter a positive integer (zero to quit): '))\n",
    "    except ValueError:\n",
    "        print('숫자가 아닙니다. 정수를 입력해주세요.')\n",
    "    except:\n",
    "        print('다시 입력해주세요.')\n",
    "    else:\n",
    "        if decimal_num == 0:\n",
    "            flag = not flag\n",
    "        else:\n",
    "            while decimal_num != 0:\n",
    "                binary_num += str(decimal_num % 2)\n",
    "                decimal_num //= 2\n",
    "            binary_num = binary_num[::-1]\n",
    "            print('The equivalent binary number: ', binary_num)\n",
    "            \n",
    "            binary_num = ''"
   ]
  }
 ],
 "metadata": {
  "kernelspec": {
   "display_name": "Python 3",
   "language": "python",
   "name": "python3"
  },
  "language_info": {
   "codemirror_mode": {
    "name": "ipython",
    "version": 3
   },
   "file_extension": ".py",
   "mimetype": "text/x-python",
   "name": "python",
   "nbconvert_exporter": "python",
   "pygments_lexer": "ipython3",
   "version": "3.6.5"
  }
 },
 "nbformat": 4,
 "nbformat_minor": 2
}
