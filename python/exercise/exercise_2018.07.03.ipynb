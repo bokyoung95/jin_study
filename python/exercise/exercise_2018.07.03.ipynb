{
 "cells": [
  {
   "cell_type": "markdown",
   "metadata": {},
   "source": [
    "# BIGDATA X CAMPUS\n",
    "---\n",
    "\n",
    "* 2018.07.03\n",
    "* 김태진 (가천대학교 의용생체공학과)\n",
    "\n",
    "\n",
    "## Python List Exercises\n",
    "---"
   ]
  },
  {
   "cell_type": "markdown",
   "metadata": {},
   "source": [
    "### 1. Exercise 105: Reverse Order\n",
    "---"
   ]
  },
  {
   "cell_type": "code",
   "execution_count": 1,
   "metadata": {
    "scrolled": true
   },
   "outputs": [
    {
     "name": "stdout",
     "output_type": "stream",
     "text": [
      "Enter a integer (zero to quit): 1\n",
      "Enter a integer (zero to quit): 2\n",
      "Enter a integer (zero to quit): 3\n",
      "Enter a integer (zero to quit): a\n",
      "숫자가 아닙니다. 정수를 입력하세요.\n",
      "Enter a integer (zero to quit): b\n",
      "숫자가 아닙니다. 정수를 입력하세요.\n",
      "Enter a integer (zero to quit): 4\n",
      "Enter a integer (zero to quit): 5\n",
      "Enter a integer (zero to quit): 0\n",
      "5\n",
      "4\n",
      "3\n",
      "2\n",
      "1\n"
     ]
    }
   ],
   "source": [
    "nums = []\n",
    "\n",
    "flag = True\n",
    "while flag:\n",
    "    try:\n",
    "        num = int(input('Enter an integer (zero to quit): '))\n",
    "    except ValueError:\n",
    "        print('숫자가 아닙니다. 정수를 입력해주세요.')\n",
    "    except:\n",
    "        print('다시 입력해주세요.')\n",
    "    else:\n",
    "        if num == 0:\n",
    "            flag = not flag\n",
    "        else:\n",
    "            nums.append(num)\n",
    "else:\n",
    "    for i in nums[::-1]:\n",
    "        print(i)"
   ]
  },
  {
   "cell_type": "markdown",
   "metadata": {},
   "source": [
    "### 2. Exercise 107: Avoiding Dulicates\n",
    "---"
   ]
  },
  {
   "cell_type": "code",
   "execution_count": 12,
   "metadata": {
    "scrolled": true
   },
   "outputs": [
    {
     "name": "stdout",
     "output_type": "stream",
     "text": [
      "Enter a word (blank to quit): aaa\n",
      "Enter a word (blank to quit): bbb\n",
      "Enter a word (blank to quit): aaa\n",
      "Enter a word (blank to quit): bbb\n",
      "Enter a word (blank to quit): ccc\n",
      "Enter a word (blank to quit): \n",
      "aaa\n",
      "bbb\n",
      "ccc\n"
     ]
    }
   ],
   "source": [
    "words = []\n",
    "\n",
    "flag = True\n",
    "while flag:\n",
    "    word = input('Enter a word (blank to quit): ')\n",
    "    \n",
    "    if word == '':\n",
    "        flag = not flag\n",
    "    elif word not in words:\n",
    "        words.append(word)\n",
    "    else:\n",
    "        pass\n",
    "else:\n",
    "    for w in words:\n",
    "        print(w)"
   ]
  },
  {
   "cell_type": "markdown",
   "metadata": {},
   "source": [
    "### 3. Exercise 108: Negatives, Zeros and Positives\n",
    "---"
   ]
  },
  {
   "cell_type": "code",
   "execution_count": 4,
   "metadata": {
    "scrolled": false
   },
   "outputs": [
    {
     "name": "stdout",
     "output_type": "stream",
     "text": [
      "Enter a integer (blank to quit):0\n",
      "Enter a integer (blank to quit):a\n",
      "숫자가 아닙니다. 정수를 입력하세요.\n",
      "Enter a integer (blank to quit):b\n",
      "숫자가 아닙니다. 정수를 입력하세요.\n",
      "Enter a integer (blank to quit):1\n",
      "Enter a integer (blank to quit):5\n",
      "Enter a integer (blank to quit):-3\n",
      "Enter a integer (blank to quit):0\n",
      "Enter a integer (blank to quit):0\n",
      "Enter a integer (blank to quit):-8\n",
      "Enter a integer (blank to quit):\n",
      "-3\n",
      "-8\n",
      "0\n",
      "0\n",
      "0\n",
      "1\n",
      "5\n"
     ]
    }
   ],
   "source": [
    "nums = []\n",
    "p_nums = []\n",
    "z_nums = []\n",
    "n_nums = []\n",
    "\n",
    "while True:\n",
    "    try:\n",
    "        i = input('Enter an integer (blank to quit): ')\n",
    "        \n",
    "        if i == '':\n",
    "            break\n",
    "        else:\n",
    "            num = int(i)\n",
    "    except ValueError:\n",
    "        print('숫자가 아닙니다. 정수를 입력해주세요.')\n",
    "    except:\n",
    "        print('다시 입력해주세요.')\n",
    "    else:\n",
    "        if num < 0:\n",
    "            n_nums.append(num)    \n",
    "        elif num == 0:\n",
    "            z_nums.append(num)\n",
    "        else:\n",
    "            p_nums.append(num)\n",
    "\n",
    "nums.extend(n_nums)\n",
    "nums.extend(z_nums)\n",
    "nums.extend(p_nums)\n",
    "        \n",
    "for i in nums:\n",
    "    print(i)"
   ]
  },
  {
   "cell_type": "markdown",
   "metadata": {},
   "source": [
    "### 4. Exercise 110: Perfect Numbers\n",
    "---"
   ]
  },
  {
   "cell_type": "code",
   "execution_count": 5,
   "metadata": {
    "collapsed": true
   },
   "outputs": [],
   "source": [
    "def perfect_num(num):\n",
    "    \"\"\"Check whether or not num is a perfect number.\"\"\"\n",
    "    \n",
    "    proper_div = []\n",
    "    \n",
    "    for div in range(1, num//2 + 1):\n",
    "        if num%div == 0:\n",
    "            proper_div.append(div)\n",
    "        else:\n",
    "            pass\n",
    "    \n",
    "    sum_proper_div = sum(proper_div)\n",
    "    \n",
    "    if sum_proper_div == num:\n",
    "        return True\n",
    "    else:\n",
    "        return False"
   ]
  },
  {
   "cell_type": "code",
   "execution_count": 6,
   "metadata": {},
   "outputs": [
    {
     "name": "stdout",
     "output_type": "stream",
     "text": [
      "Perfect numbers:\n",
      "6\n",
      "28\n",
      "496\n",
      "8128\n"
     ]
    }
   ],
   "source": [
    "print('Perfect numbers:')\n",
    "for i in range(1, 10000):\n",
    "    if perfect_num(i):\n",
    "        print(i)\n",
    "    else:\n",
    "        pass"
   ]
  },
  {
   "cell_type": "markdown",
   "metadata": {},
   "source": [
    "### 5. Exercise 113: Formatting a List\n",
    "---"
   ]
  },
  {
   "cell_type": "code",
   "execution_count": 9,
   "metadata": {
    "collapsed": true
   },
   "outputs": [],
   "source": [
    "def insert_comma_and(words):\n",
    "    'Insert a comma between words and insert \\'and\\' before the last word.' \n",
    "    \n",
    "    str_words = ''\n",
    "    \n",
    "    for idx, w in enumerate(words):\n",
    "        if idx == 0:\n",
    "            str_words += w\n",
    "        elif idx == len(words) - 1:\n",
    "            str_words += ' and ' + w\n",
    "        else:\n",
    "            str_words += ', ' + w\n",
    "    \n",
    "    return str_words    "
   ]
  },
  {
   "cell_type": "code",
   "execution_count": 11,
   "metadata": {},
   "outputs": [
    {
     "name": "stdout",
     "output_type": "stream",
     "text": [
      "Enter a word (blank to quit):aaa\n",
      "Enter a word (blank to quit):bbb\n",
      "Enter a word (blank to quit):ccc\n",
      "Enter a word (blank to quit):ddd\n",
      "Enter a word (blank to quit):\n",
      "aaa, bbb, ccc and ddd\n"
     ]
    }
   ],
   "source": [
    "words = []\n",
    "\n",
    "flag = True\n",
    "while flag:\n",
    "    word = input('Enter a word (blank to quit): ')\n",
    "    if word == '':\n",
    "        flag = not flag\n",
    "    elif word not in words:\n",
    "        words.append(word)\n",
    "    else:\n",
    "        pass\n",
    "else:\n",
    "     print(insert_comma_and(words))"
   ]
  },
  {
   "cell_type": "markdown",
   "metadata": {},
   "source": [
    "### 6. Exercise 114: Random Lottery Numbers\n",
    "---"
   ]
  },
  {
   "cell_type": "code",
   "execution_count": 14,
   "metadata": {},
   "outputs": [
    {
     "name": "stdout",
     "output_type": "stream",
     "text": [
      "[1, 7, 16, 23, 26, 31]\n"
     ]
    }
   ],
   "source": [
    "import random\n",
    "\n",
    "lottery_nums = set()\n",
    "\n",
    "flag = True\n",
    "while flag:\n",
    "    lottery_nums.add(random.randint(1, 49))\n",
    "        \n",
    "    if len(lottery_nums) == 6:\n",
    "        flag = not flag\n",
    "    else:\n",
    "        pass\n",
    "\n",
    "else:\n",
    "    lottery_nums = list(lottery_nums)\n",
    "    lottery_nums.sort()\n",
    "    print(lottery_nums)"
   ]
  },
  {
   "cell_type": "markdown",
   "metadata": {},
   "source": [
    "## Python Dictionary Exercises\n",
    "---"
   ]
  },
  {
   "cell_type": "markdown",
   "metadata": {},
   "source": [
    "### 7. Exercise 134: Unique Characters\n",
    "---"
   ]
  },
  {
   "cell_type": "code",
   "execution_count": 17,
   "metadata": {},
   "outputs": [
    {
     "name": "stdout",
     "output_type": "stream",
     "text": [
      "Enter a string: hahaha!\n",
      "3\n"
     ]
    }
   ],
   "source": [
    "chars = set(input('Enter a string: '))\n",
    "\n",
    "for c in chars:\n",
    "    chars.add(c)\n",
    "else:\n",
    "    print(len(chars))"
   ]
  },
  {
   "cell_type": "markdown",
   "metadata": {},
   "source": [
    "### 8. Exercise 135: Anagrams\n",
    "---"
   ]
  },
  {
   "cell_type": "code",
   "execution_count": 18,
   "metadata": {},
   "outputs": [
    {
     "name": "stdout",
     "output_type": "stream",
     "text": [
      "Enter a first word:evil\n",
      "Enter a second word:live\n",
      "Anagrams!\n"
     ]
    }
   ],
   "source": [
    "word1 = set(input('Enter a first word:'))\n",
    "word2 = set(input('Enter a second word:'))\n",
    "\n",
    "if word1 == word2:\n",
    "    print('Anagrams!')\n",
    "else:\n",
    "    print('No anagram!')"
   ]
  }
 ],
 "metadata": {
  "kernelspec": {
   "display_name": "Python 3",
   "language": "python",
   "name": "python3"
  },
  "language_info": {
   "codemirror_mode": {
    "name": "ipython",
    "version": 3
   },
   "file_extension": ".py",
   "mimetype": "text/x-python",
   "name": "python",
   "nbconvert_exporter": "python",
   "pygments_lexer": "ipython3",
   "version": "3.6.5"
  }
 },
 "nbformat": 4,
 "nbformat_minor": 2
}
