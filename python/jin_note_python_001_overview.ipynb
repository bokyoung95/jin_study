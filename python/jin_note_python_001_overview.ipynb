{
 "cells": [
  {
   "cell_type": "markdown",
   "metadata": {},
   "source": [
    "# Overview\n",
    "---\n",
    "\n",
    "## Why is Python?\n",
    "---\n",
    "\n",
    "* Humorous (Life is too short, you need Python.)\n",
    "\n",
    "\n",
    "첫 번째 특징, 유머가 담겨있다? 개발자 마인드가 아직 부족해서인지, 사실 어디가 웃긴 건진 잘 모르겠다. ㅋㅋ\n",
    "\n",
    "\n",
    "* Effective, efficient\n",
    "\n",
    "\n",
    "효율성은 대부분의 언어들이 공통적으로 주장하는 부분이므로 넘어가고, 이 다음부터가 주요 특징!\n",
    "\n",
    "\n",
    "* Multi paradigm\n",
    "   * Imperative\n",
    "      * Procedural\n",
    "      * Object-oriented (Everything in Python is an object.)\n",
    "         * Python은 모든 것을 object로 다루기 때문에 변수(variable)보다는 변수, 상수, 함수, 사용자 정의 타입 등의 '이름'을 지칭하는 식별자(identifier)라는 용어를 사용한다.\n",
    "   * Declarative\n",
    "      * Functional\n",
    "\n",
    "\n",
    "* Glue language\n",
    "   * CPython (de facto)\n",
    "\n",
    "\n",
    "* Library and tool\n",
    "   * Python library modules\n",
    "   * Third party Python modules\n",
    "   * [The Python package index (PyPI)](https://pypi.org/): a repository of software for the Python programming language\n",
    "   * pip: Python package manger (de facto)\n",
    "\n",
    "\n",
    "* General purpose (cf. domain-specific)\n",
    "   * [awesome-python](https://awesome-python.com/): a curated list of awesome Python frameworks, libraries, software and resources\n",
    "   \n",
    "   \n",
    "* Dynamic language\n",
    "   * People often use the term **strongly-typed language** to refer to a language that is both statically typed (types are associated with a variable declaration -- or, more generally, the compiler can tell which type a variable refers to, for example through type inference, without executing the program) and strongly-typed (restrictive about how types can be intermingled). So, if you look at dynamic typing and strong-typing as orthogonal concepts, Python can be both **dynamically and strongly typed.**\n",
    "   \n",
    "   \n",
    "* Interpreted (script) Language\n",
    "\n",
    "\n",
    "※ 표준을 의미하는 용어 : standard, de facto, recomendation (돌려서 말한 표준)"
   ]
  },
  {
   "cell_type": "markdown",
   "metadata": {},
   "source": [
    "## Python Development Environment\n",
    "---\n",
    "\n",
    "* Read–evaluate–print loop (REPL)\n",
    "   * Also known as an interactive toplevel or language shell\n",
    "   * A simple, interactive computer programming environment that takes single user inputs (i.e. single expressions), evaluates them, and returns the result to the user; a program written in a REPL environment is executed piecewise.\n",
    "\n",
    "\n",
    "* IDE\n",
    "   * PyCharm\n",
    "\n",
    "\n",
    "* Text Editor"
   ]
  },
  {
   "cell_type": "markdown",
   "metadata": {},
   "source": [
    "## Distribution\n",
    "---\n",
    "\n",
    "* Distribution = A software bundle\n",
    "   * 장점 : 버전 및 개발환경 관리를 편하게 할 수 있다.\n",
    "   * 단점 : 업데이트가 느리다.\n",
    "\n",
    "\n",
    "* Python interpreter (Python standard library) + Package manager\n",
    "   * Anaconda"
   ]
  },
  {
   "cell_type": "markdown",
   "metadata": {},
   "source": [
    "## Programming Language and Grammar\n",
    "---\n",
    "\n",
    "* 프로그래밍 언어의 문법\n",
    "   * 생각을 표현하는 도구\n",
    "   * 언어가 지향하고자 하는 철학을 반영\n",
    "   * 따라서 문법에 대한 올바른 이해는 필수!\n",
    "   \n",
    "   \n",
    "Python 프로그래밍을 할 때 처음 보는 module 또는 class를 사용하게 되었다면? 반드시 다음 명령어들을 통해서 어떤 것인지를 파악하자!\n",
    "\n",
    "\n",
    "예를 들어, sys라는 것을 처음 사용하게 되었다고 하자."
   ]
  },
  {
   "cell_type": "code",
   "execution_count": 1,
   "metadata": {},
   "outputs": [],
   "source": [
    "import sys"
   ]
  },
  {
   "cell_type": "markdown",
   "metadata": {},
   "source": [
    "sys의 type을 확인"
   ]
  },
  {
   "cell_type": "code",
   "execution_count": 3,
   "metadata": {
    "scrolled": true
   },
   "outputs": [
    {
     "data": {
      "text/plain": [
       "module"
      ]
     },
     "execution_count": 3,
     "metadata": {},
     "output_type": "execute_result"
    }
   ],
   "source": [
    "type(sys)"
   ]
  },
  {
   "cell_type": "markdown",
   "metadata": {},
   "source": [
    "sys 안에 무엇(attribute, method)이 있는 지 확인"
   ]
  },
  {
   "cell_type": "code",
   "execution_count": 4,
   "metadata": {
    "scrolled": true
   },
   "outputs": [
    {
     "data": {
      "text/plain": [
       "['__displayhook__',\n",
       " '__doc__',\n",
       " '__excepthook__',\n",
       " '__interactivehook__',\n",
       " '__loader__',\n",
       " '__name__',\n",
       " '__package__',\n",
       " '__spec__',\n",
       " '__stderr__',\n",
       " '__stdin__',\n",
       " '__stdout__',\n",
       " '_clear_type_cache',\n",
       " '_current_frames',\n",
       " '_debugmallocstats',\n",
       " '_enablelegacywindowsfsencoding',\n",
       " '_getframe',\n",
       " '_git',\n",
       " '_home',\n",
       " '_xoptions',\n",
       " 'api_version',\n",
       " 'argv',\n",
       " 'base_exec_prefix',\n",
       " 'base_prefix',\n",
       " 'builtin_module_names',\n",
       " 'byteorder',\n",
       " 'call_tracing',\n",
       " 'callstats',\n",
       " 'copyright',\n",
       " 'displayhook',\n",
       " 'dllhandle',\n",
       " 'dont_write_bytecode',\n",
       " 'exc_info',\n",
       " 'excepthook',\n",
       " 'exec_prefix',\n",
       " 'executable',\n",
       " 'exit',\n",
       " 'flags',\n",
       " 'float_info',\n",
       " 'float_repr_style',\n",
       " 'get_asyncgen_hooks',\n",
       " 'get_coroutine_wrapper',\n",
       " 'getallocatedblocks',\n",
       " 'getcheckinterval',\n",
       " 'getdefaultencoding',\n",
       " 'getfilesystemencodeerrors',\n",
       " 'getfilesystemencoding',\n",
       " 'getprofile',\n",
       " 'getrecursionlimit',\n",
       " 'getrefcount',\n",
       " 'getsizeof',\n",
       " 'getswitchinterval',\n",
       " 'gettrace',\n",
       " 'getwindowsversion',\n",
       " 'hash_info',\n",
       " 'hexversion',\n",
       " 'implementation',\n",
       " 'int_info',\n",
       " 'intern',\n",
       " 'is_finalizing',\n",
       " 'last_traceback',\n",
       " 'last_type',\n",
       " 'last_value',\n",
       " 'maxsize',\n",
       " 'maxunicode',\n",
       " 'meta_path',\n",
       " 'modules',\n",
       " 'path',\n",
       " 'path_hooks',\n",
       " 'path_importer_cache',\n",
       " 'platform',\n",
       " 'prefix',\n",
       " 'ps1',\n",
       " 'ps2',\n",
       " 'ps3',\n",
       " 'set_asyncgen_hooks',\n",
       " 'set_coroutine_wrapper',\n",
       " 'setcheckinterval',\n",
       " 'setprofile',\n",
       " 'setrecursionlimit',\n",
       " 'setswitchinterval',\n",
       " 'settrace',\n",
       " 'stderr',\n",
       " 'stdin',\n",
       " 'stdout',\n",
       " 'thread_info',\n",
       " 'version',\n",
       " 'version_info',\n",
       " 'warnoptions',\n",
       " 'winver']"
      ]
     },
     "execution_count": 4,
     "metadata": {},
     "output_type": "execute_result"
    }
   ],
   "source": [
    "dir(sys)"
   ]
  },
  {
   "cell_type": "markdown",
   "metadata": {},
   "source": [
    "도움말로 제공되는 Docstring을 보는 세 가지 방법"
   ]
  },
  {
   "cell_type": "code",
   "execution_count": 13,
   "metadata": {},
   "outputs": [
    {
     "data": {
      "text/plain": [
       "<module 'sys' (built-in)>"
      ]
     },
     "execution_count": 13,
     "metadata": {},
     "output_type": "execute_result"
    }
   ],
   "source": [
    "# Shitf + Tab: cell을 실행하지 않고 바로 Docstring 보기\n",
    "# Shitf + Tab을 연속으로 두 번 누르면 스크롤이 생성되면서 Docstring 전체를 볼 수 있다.\n",
    "sys"
   ]
  },
  {
   "cell_type": "code",
   "execution_count": 2,
   "metadata": {},
   "outputs": [],
   "source": [
    "# ??: Type과 String form만 보기\n",
    "sys??"
   ]
  },
  {
   "cell_type": "code",
   "execution_count": 16,
   "metadata": {},
   "outputs": [],
   "source": [
    "# ?: Docstring까지 보기\n",
    "sys?"
   ]
  },
  {
   "cell_type": "markdown",
   "metadata": {},
   "source": [
    "세 가지 다 해봤는데 Docstring이 안 나오면 공식 사이트에 직접 가서 보거나 구글링 하자.\n",
    "\n",
    "\n",
    "어떤 새로운 것이 등장하더라도 이제 type과 dir 찍어보고 각각의 Docstring 참고하여 이것저것 사용해보면서 손에 익히면 된다.\n",
    "\n",
    "\n",
    "**[Quiz]** Python에서 가장 큰 정수 값은?"
   ]
  },
  {
   "cell_type": "code",
   "execution_count": 15,
   "metadata": {
    "scrolled": true
   },
   "outputs": [
    {
     "data": {
      "text/plain": [
       "9223372036854775807"
      ]
     },
     "execution_count": 15,
     "metadata": {},
     "output_type": "execute_result"
    }
   ],
   "source": [
    "num_max = sys.maxsize\n",
    "\n",
    "num_max"
   ]
  },
  {
   "cell_type": "markdown",
   "metadata": {},
   "source": [
    "Python의 int type은 overflow와 underflow가 없다(arbitrary precision). 사용자는 편하지만 자동으로 이것 저것 많이 따지느라 속도가 느리다."
   ]
  },
  {
   "cell_type": "code",
   "execution_count": 63,
   "metadata": {},
   "outputs": [
    {
     "data": {
      "text/plain": [
       "9223372036854775808"
      ]
     },
     "execution_count": 63,
     "metadata": {},
     "output_type": "execute_result"
    }
   ],
   "source": [
    "next_num_max = num_max + 1\n",
    "\n",
    "next_num_max"
   ]
  },
  {
   "cell_type": "markdown",
   "metadata": {},
   "source": [
    "int는 overflow가 없지만 float는 있다. 부동소수점 문제 때문."
   ]
  },
  {
   "cell_type": "code",
   "execution_count": 64,
   "metadata": {},
   "outputs": [
    {
     "data": {
      "text/plain": [
       "0.2"
      ]
     },
     "execution_count": 64,
     "metadata": {},
     "output_type": "execute_result"
    }
   ],
   "source": [
    ".1 + .1"
   ]
  },
  {
   "cell_type": "code",
   "execution_count": 65,
   "metadata": {},
   "outputs": [
    {
     "data": {
      "text/plain": [
       "0.30000000000000004"
      ]
     },
     "execution_count": 65,
     "metadata": {},
     "output_type": "execute_result"
    }
   ],
   "source": [
    ".1 + .1 + .1"
   ]
  },
  {
   "cell_type": "code",
   "execution_count": 3,
   "metadata": {},
   "outputs": [
    {
     "data": {
      "text/plain": [
       "Decimal('0.3')"
      ]
     },
     "execution_count": 3,
     "metadata": {},
     "output_type": "execute_result"
    }
   ],
   "source": [
    "from decimal import Decimal\n",
    "\n",
    "a = Decimal('.2')\n",
    "b = Decimal('.1')\n",
    "c = a + b\n",
    "\n",
    "c"
   ]
  },
  {
   "cell_type": "markdown",
   "metadata": {},
   "source": [
    "The str() function is meant to return representations of values which are fairly human-readable, while repr() is meant to generate representations which can be read by the interpreter (or will force a SyntaxError if there is no equivalent syntax). For objects which don’t have a particular representation for human consumption, str() will return the same value as repr()."
   ]
  },
  {
   "cell_type": "code",
   "execution_count": 70,
   "metadata": {},
   "outputs": [
    {
     "data": {
      "text/plain": [
       "\"Decimal('0.3')\""
      ]
     },
     "execution_count": 70,
     "metadata": {},
     "output_type": "execute_result"
    }
   ],
   "source": [
    "c.__repr__()"
   ]
  },
  {
   "cell_type": "code",
   "execution_count": 68,
   "metadata": {},
   "outputs": [
    {
     "name": "stdout",
     "output_type": "stream",
     "text": [
      "0.3\n"
     ]
    }
   ],
   "source": [
    "print(c)"
   ]
  },
  {
   "cell_type": "code",
   "execution_count": 69,
   "metadata": {},
   "outputs": [
    {
     "data": {
      "text/plain": [
       "'0.3'"
      ]
     },
     "execution_count": 69,
     "metadata": {},
     "output_type": "execute_result"
    }
   ],
   "source": [
    "c.__str__()"
   ]
  },
  {
   "cell_type": "markdown",
   "metadata": {},
   "source": [
    "## Python Grammar\n",
    "---\n",
    "\n",
    "\n",
    "* Case Sensitive\n",
    "\n",
    "\n",
    "* Line oriented\n",
    "\n",
    "\n",
    "* Space Sensitive\n",
    "   * Indentation 중요 : space 4개로 블록을 구분한다.\n",
    "\n",
    "\n",
    "* Keywords = Reserved Words\n",
    "   * 당연하지만, keyword는 identifier로 사용할 수 없다."
   ]
  },
  {
   "cell_type": "code",
   "execution_count": 17,
   "metadata": {},
   "outputs": [
    {
     "data": {
      "text/plain": [
       "module"
      ]
     },
     "execution_count": 17,
     "metadata": {},
     "output_type": "execute_result"
    }
   ],
   "source": [
    "import keyword\n",
    "\n",
    "type(keyword)"
   ]
  },
  {
   "cell_type": "code",
   "execution_count": 18,
   "metadata": {},
   "outputs": [
    {
     "data": {
      "text/plain": [
       "['__all__',\n",
       " '__builtins__',\n",
       " '__cached__',\n",
       " '__doc__',\n",
       " '__file__',\n",
       " '__loader__',\n",
       " '__name__',\n",
       " '__package__',\n",
       " '__spec__',\n",
       " 'iskeyword',\n",
       " 'kwlist',\n",
       " 'main']"
      ]
     },
     "execution_count": 18,
     "metadata": {},
     "output_type": "execute_result"
    }
   ],
   "source": [
    "dir(keyword)"
   ]
  },
  {
   "cell_type": "markdown",
   "metadata": {},
   "source": [
    "dir()로 확인해봤더니 몇 개 없다. 연습할 겸 다 사용해보자.\n",
    "\n",
    "\n",
    "Shitf(자동완성)는 늘 사용하기! 안 쓰면... 일단 매우 귀찮다. ㅋㅋ 자동완성만 잘 써도 외워야 할 양이 확 줄고 코딩 속도도 향상된다."
   ]
  },
  {
   "cell_type": "code",
   "execution_count": 26,
   "metadata": {},
   "outputs": [
    {
     "data": {
      "text/plain": [
       "True"
      ]
     },
     "execution_count": 26,
     "metadata": {},
     "output_type": "execute_result"
    }
   ],
   "source": [
    "# Keyword인지 아닌지 확인\n",
    "keyword.iskeyword('import')"
   ]
  },
  {
   "cell_type": "code",
   "execution_count": 29,
   "metadata": {
    "scrolled": true
   },
   "outputs": [
    {
     "data": {
      "text/plain": [
       "['False',\n",
       " 'None',\n",
       " 'True',\n",
       " 'and',\n",
       " 'as',\n",
       " 'assert',\n",
       " 'break',\n",
       " 'class',\n",
       " 'continue',\n",
       " 'def',\n",
       " 'del',\n",
       " 'elif',\n",
       " 'else',\n",
       " 'except',\n",
       " 'finally',\n",
       " 'for',\n",
       " 'from',\n",
       " 'global',\n",
       " 'if',\n",
       " 'import',\n",
       " 'in',\n",
       " 'is',\n",
       " 'lambda',\n",
       " 'nonlocal',\n",
       " 'not',\n",
       " 'or',\n",
       " 'pass',\n",
       " 'raise',\n",
       " 'return',\n",
       " 'try',\n",
       " 'while',\n",
       " 'with',\n",
       " 'yield']"
      ]
     },
     "execution_count": 29,
     "metadata": {},
     "output_type": "execute_result"
    }
   ],
   "source": [
    "# Keyword list 확인\n",
    "keyword.kwlist"
   ]
  },
  {
   "cell_type": "markdown",
   "metadata": {},
   "source": [
    "* Python은 규칙(keyword 등)의 수가 타 언어에 비해 적다.\n",
    "\n",
    "\n",
    "**[Quiz]** Python의 keyword는 총 몇 개?"
   ]
  },
  {
   "cell_type": "code",
   "execution_count": 30,
   "metadata": {
    "scrolled": true
   },
   "outputs": [
    {
     "data": {
      "text/plain": [
       "33"
      ]
     },
     "execution_count": 30,
     "metadata": {},
     "output_type": "execute_result"
    }
   ],
   "source": [
    "len(keyword.kwlist)"
   ]
  },
  {
   "cell_type": "markdown",
   "metadata": {},
   "source": [
    "주석은 언제 어느 때 어떤 언어를 사용하든 늘 꼼꼼히 달자!"
   ]
  },
  {
   "cell_type": "code",
   "execution_count": 1,
   "metadata": {},
   "outputs": [
    {
     "data": {
      "text/plain": [
       "'\\nmulti\\nline\\n'"
      ]
     },
     "execution_count": 1,
     "metadata": {},
     "output_type": "execute_result"
    }
   ],
   "source": [
    "# Line-based\n",
    "\n",
    "#! Shell-script friendly\n",
    "\n",
    "'''\n",
    "multi\n",
    "line\n",
    "'''"
   ]
  },
  {
   "cell_type": "markdown",
   "metadata": {},
   "source": [
    "* Assignment"
   ]
  },
  {
   "cell_type": "code",
   "execution_count": 2,
   "metadata": {},
   "outputs": [],
   "source": [
    "# Simple assignment\n",
    "target = 'single value'\n",
    "cnt = 0\n",
    "\n",
    "# Assignment of single value to multiple targets\n",
    "x = y = z = 0\n",
    "\n",
    "# Assignment of multiple values to multiple targets\n",
    "i, j = 1, 2\n",
    "\n",
    "# Augmented assignment (It's a statement not expression)\n",
    "cnt += 1"
   ]
  },
  {
   "cell_type": "markdown",
   "metadata": {},
   "source": [
    "* Identifier\n",
    "   * Case-sensitive names (이름을 잘 짓는 것이 중요하다!)\n",
    "      * Camel case : Python에서는 잘 사용하지 않는다.\n",
    "         * e.g. camelCaseExample\n",
    "      * Pascal case : class\n",
    "         * e.g. PascalCaseExample\n",
    "      * Snake case : function and variable\n",
    "         * e.g. snake_case_example\n",
    "         \n",
    "※ PEP 8 : Style guide for Python code  \n",
    "e.g. Use 4 spaces per indentation level.  \n",
    "[PEP8 online](http://pep8online.com/) : Check your code for PEP8 requirements "
   ]
  },
  {
   "cell_type": "markdown",
   "metadata": {},
   "source": [
    "* Expression vs. Statement\n",
    "   * 표현식 (expression) = 평가식\n",
    "      * 값 또는 값과 연산자를 함께 사용해서 표현한 것수와\n",
    "      * 표현식은 궁극적으로 평가(하나의 결과를 도출하는 것)된다.\n",
    "      * 수식, 문자열과 문자열 관련 연산, lambda 함수\n",
    "   * 구문 (statement)\n",
    "      * 예약어(reserved word)와 표현식을 결합한 패턴\n",
    "      * 컴퓨터가 수행해야 하는 단일 작업(instruction)\n",
    "         * Assignment (할당, 대입) = Binding (Python에서의 표현)\n",
    "            * Python에서 식별자(변수)는 선언과 할당이 동시에 이루어져야 한다.\n",
    "         * Declaration (선언, 정의)\n",
    "            * 재사용이 가능한 독립적인 단위를 정의하는 것 (선언문 + 내용을 기술한 블럭)\n",
    "            * Python에서는 class 또는 function을 정의한다.\n",
    "      * 분기문\n",
    "      * 반복문\n",
    "      \n",
    "      \n",
    "솔직히 여태까지는 위와 같은 개념에 대해 어렴풋하게 이해한 채로 코딩을 해왔다. 다른 프로그래밍 언어에도 대체로 동일하게 적용되는 개념이므로 잘 정리하고 넘어가자."
   ]
  },
  {
   "cell_type": "markdown",
   "metadata": {},
   "source": [
    "## Workspace\n",
    "---\n",
    "\n",
    "`%who`? `%Whos`? 처음 써보는 아이들이 나왔으니 궁금하면 `Shift + Tab`! 현재 작업공간에 할당된 interactive variables를 확인할 수 있다. "
   ]
  },
  {
   "cell_type": "code",
   "execution_count": 5,
   "metadata": {
    "scrolled": true
   },
   "outputs": [
    {
     "name": "stdout",
     "output_type": "stream",
     "text": [
      "cnt\t i\t j\t target\t x\t y\t z\t \n"
     ]
    }
   ],
   "source": [
    "# Print all interactive variables, with some minimal formatting.\n",
    "%who"
   ]
  },
  {
   "cell_type": "code",
   "execution_count": 9,
   "metadata": {},
   "outputs": [
    {
     "name": "stdout",
     "output_type": "stream",
     "text": [
      "i\t j\t target\t test\t x\t y\t z\t \n"
     ]
    }
   ],
   "source": [
    "# t를 새로 추가하고 %who를 해보면?\n",
    "t = 'test'\n",
    "\n",
    "%who"
   ]
  },
  {
   "cell_type": "code",
   "execution_count": 10,
   "metadata": {},
   "outputs": [
    {
     "data": {
      "text/plain": [
       "['i', 'j', 'target', 'test', 'x', 'y', 'z']"
      ]
     },
     "execution_count": 10,
     "metadata": {},
     "output_type": "execute_result"
    }
   ],
   "source": [
    "# Return a sorted list of all interactive variables.\n",
    "%who_ls"
   ]
  },
  {
   "cell_type": "code",
   "execution_count": 16,
   "metadata": {
    "scrolled": false
   },
   "outputs": [
    {
     "name": "stdout",
     "output_type": "stream",
     "text": [
      "Variable   Type    Data/Info\n",
      "----------------------------\n",
      "i          int     1\n",
      "j          int     2\n",
      "target     str     single value\n",
      "test       str     test\n",
      "x          int     0\n",
      "y          int     0\n",
      "z          int     0\n"
     ]
    }
   ],
   "source": [
    "# Like %who, but gives some extra information about each variable.\n",
    "%whos"
   ]
  },
  {
   "cell_type": "markdown",
   "metadata": {},
   "source": [
    "`del` : (작업공간에서) 할당된 변수를 제거"
   ]
  },
  {
   "cell_type": "code",
   "execution_count": 6,
   "metadata": {},
   "outputs": [
    {
     "name": "stdout",
     "output_type": "stream",
     "text": [
      "Decimal\t a\t b\t c\t sys\t \n"
     ]
    }
   ],
   "source": [
    "del t\n",
    "\n",
    "%who"
   ]
  },
  {
   "cell_type": "code",
   "execution_count": 7,
   "metadata": {},
   "outputs": [
    {
     "data": {
      "text/plain": [
       "[2, 3]"
      ]
     },
     "execution_count": 7,
     "metadata": {},
     "output_type": "execute_result"
    }
   ],
   "source": [
    "# 일부만 지우는 것도 가능\n",
    "d = [1, 2, 3]\n",
    "del d[0]\n",
    "\n",
    "d"
   ]
  },
  {
   "cell_type": "markdown",
   "metadata": {},
   "source": [
    "## Built-in Types and Literal\n",
    "---\n",
    "\n",
    "* Literals are notations for constant values of some built-in types.\n",
    "\n",
    "\n",
    "* Numeric (숫자형)\n",
    "   * `int` : 0, 1, -2\n",
    "      * Binary : 0b101\n",
    "      * Octal : 0o17\n",
    "      * Hex : 0x1F\n",
    "   * `float` : 0.0, .1, -.23, 1.5e2\n",
    "      * Almost all platforms represent Python float values as 64-bit double-precision values, according to the IEEE 754 standard.\n",
    "         * the maximum value a floating-point number : 1.8e308\n",
    "         * The closest a nonzero number : 5.0e-324\n",
    "   * `complex` : 15+2j\n",
    "   * `bool` : `True`, `False`\n",
    "      * Python에서 boolean은 numeric의 일부"
   ]
  },
  {
   "cell_type": "code",
   "execution_count": 20,
   "metadata": {},
   "outputs": [
    {
     "data": {
      "text/plain": [
       "1000"
      ]
     },
     "execution_count": 20,
     "metadata": {},
     "output_type": "execute_result"
    }
   ],
   "source": [
    "# 숫자 사이에 underscore(_)를 넣을 수 있는데, 오로지 readability(가독성)를 위한 것이다.\n",
    "1_000"
   ]
  },
  {
   "cell_type": "code",
   "execution_count": 9,
   "metadata": {},
   "outputs": [
    {
     "data": {
      "text/plain": [
       "'0o17'"
      ]
     },
     "execution_count": 9,
     "metadata": {},
     "output_type": "execute_result"
    }
   ],
   "source": [
    "oct(15)"
   ]
  },
  {
   "cell_type": "code",
   "execution_count": 10,
   "metadata": {},
   "outputs": [
    {
     "data": {
      "text/plain": [
       "'0x1f'"
      ]
     },
     "execution_count": 10,
     "metadata": {},
     "output_type": "execute_result"
    }
   ],
   "source": [
    "hex(31)"
   ]
  },
  {
   "cell_type": "code",
   "execution_count": 11,
   "metadata": {},
   "outputs": [
    {
     "data": {
      "text/plain": [
       "31"
      ]
     },
     "execution_count": 11,
     "metadata": {},
     "output_type": "execute_result"
    }
   ],
   "source": [
    "int('0x1F', base=16)"
   ]
  },
  {
   "cell_type": "code",
   "execution_count": 12,
   "metadata": {},
   "outputs": [
    {
     "data": {
      "text/plain": [
       "1.79e+308"
      ]
     },
     "execution_count": 12,
     "metadata": {},
     "output_type": "execute_result"
    }
   ],
   "source": [
    "# Maximum float\n",
    "1.79e308"
   ]
  },
  {
   "cell_type": "code",
   "execution_count": 13,
   "metadata": {},
   "outputs": [
    {
     "data": {
      "text/plain": [
       "inf"
      ]
     },
     "execution_count": 13,
     "metadata": {},
     "output_type": "execute_result"
    }
   ],
   "source": [
    "# 더 큰 값은 inf(무한)로 취급\n",
    "1.8e308"
   ]
  },
  {
   "cell_type": "code",
   "execution_count": 14,
   "metadata": {},
   "outputs": [
    {
     "data": {
      "text/plain": [
       "float"
      ]
     },
     "execution_count": 14,
     "metadata": {},
     "output_type": "execute_result"
    }
   ],
   "source": [
    "# type은 float\n",
    "type(1.8e308)"
   ]
  },
  {
   "cell_type": "code",
   "execution_count": 15,
   "metadata": {},
   "outputs": [
    {
     "data": {
      "text/plain": [
       "-1.79e+308"
      ]
     },
     "execution_count": 15,
     "metadata": {},
     "output_type": "execute_result"
    }
   ],
   "source": [
    "# Minimum float\n",
    "-1.79e308"
   ]
  },
  {
   "cell_type": "code",
   "execution_count": 16,
   "metadata": {},
   "outputs": [
    {
     "data": {
      "text/plain": [
       "-inf"
      ]
     },
     "execution_count": 16,
     "metadata": {},
     "output_type": "execute_result"
    }
   ],
   "source": [
    "# 더 작은 값은 -inf로 취급\n",
    "-1.8e308"
   ]
  },
  {
   "cell_type": "code",
   "execution_count": 17,
   "metadata": {},
   "outputs": [
    {
     "data": {
      "text/plain": [
       "float"
      ]
     },
     "execution_count": 17,
     "metadata": {},
     "output_type": "execute_result"
    }
   ],
   "source": [
    "# type은 역시 float\n",
    "type(-1.8e308)"
   ]
  },
  {
   "cell_type": "code",
   "execution_count": 18,
   "metadata": {},
   "outputs": [
    {
     "data": {
      "text/plain": [
       "5e-324"
      ]
     },
     "execution_count": 18,
     "metadata": {},
     "output_type": "execute_result"
    }
   ],
   "source": [
    "# 0과 가장 가까운 float\n",
    "5.0e-324"
   ]
  },
  {
   "cell_type": "code",
   "execution_count": 19,
   "metadata": {},
   "outputs": [
    {
     "data": {
      "text/plain": [
       "0.0"
      ]
     },
     "execution_count": 19,
     "metadata": {},
     "output_type": "execute_result"
    }
   ],
   "source": [
    "# 5.0e-324보다 0에 더 가까운 값은 0으로 취급\n",
    "2.0e-324"
   ]
  },
  {
   "cell_type": "markdown",
   "metadata": {
    "collapsed": true
   },
   "source": [
    "* 문자열\n",
    "   * `str` : 'A', \"Apple\", 'Hello World!`\n",
    "      * Python에서는 문자(낱자)와 문자열을 구분하지 않고 모두 str type을 적용한다.\n",
    "\n",
    "\n",
    "* Container : 기본적인 type을 조합하여 여러 개의 값을 하나로 묶어서 다루는 type. Data type인 동시에 data structure.\n",
    "   * Sequence\n",
    "      * `tuple` : (3, 4)\n",
    "      * `list` : [0, 1, 2, 3]\n",
    "      * `range`\n",
    "   * Lookup\n",
    "      * `dict` : {'A':65, 'a':97}\n",
    "      * `set` : {0, 1, 2, 3}"
   ]
  },
  {
   "cell_type": "code",
   "execution_count": 12,
   "metadata": {},
   "outputs": [
    {
     "data": {
      "text/plain": [
       "type"
      ]
     },
     "execution_count": 12,
     "metadata": {},
     "output_type": "execute_result"
    }
   ],
   "source": [
    "type(int)"
   ]
  },
  {
   "cell_type": "code",
   "execution_count": 74,
   "metadata": {},
   "outputs": [
    {
     "data": {
      "text/plain": [
       "type"
      ]
     },
     "execution_count": 74,
     "metadata": {},
     "output_type": "execute_result"
    }
   ],
   "source": [
    "type(range)"
   ]
  },
  {
   "cell_type": "markdown",
   "metadata": {
    "collapsed": true
   },
   "source": [
    "* 존재하지 않음.\n",
    "   * `None` : None"
   ]
  },
  {
   "cell_type": "code",
   "execution_count": 75,
   "metadata": {
    "scrolled": true
   },
   "outputs": [
    {
     "data": {
      "text/plain": [
       "NoneType"
      ]
     },
     "execution_count": 75,
     "metadata": {},
     "output_type": "execute_result"
    }
   ],
   "source": [
    "type(None)"
   ]
  }
 ],
 "metadata": {
  "kernelspec": {
   "display_name": "Python 3",
   "language": "python",
   "name": "python3"
  },
  "language_info": {
   "codemirror_mode": {
    "name": "ipython",
    "version": 3
   },
   "file_extension": ".py",
   "mimetype": "text/x-python",
   "name": "python",
   "nbconvert_exporter": "python",
   "pygments_lexer": "ipython3",
   "version": "3.6.6"
  }
 },
 "nbformat": 4,
 "nbformat_minor": 2
}
